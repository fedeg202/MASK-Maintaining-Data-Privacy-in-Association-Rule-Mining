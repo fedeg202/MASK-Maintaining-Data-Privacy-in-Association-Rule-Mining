{
 "cells": [
  {
   "cell_type": "code",
   "execution_count": 1,
   "metadata": {},
   "outputs": [],
   "source": [
    "\n",
    "test_ds_path = \".\\..\\Datasets\\store_data.csv\"\n",
    "\n",
    "with open(test_ds_path, \"r\") as f:\n",
    "\n",
    "    lines = f.readlines()\n",
    "    inventory = list()\n",
    "    tuples = list()\n",
    "\n",
    "    for line in lines:\n",
    "        transaction = line.strip().split(\",\")\n",
    "        #print(transaction)\n",
    "        tuples.append(transaction)\n",
    "        for element in transaction:\n",
    "            if element.strip().replace(' ','_').replace('&','and') not in inventory:\n",
    "                inventory.append(element.strip().replace(' ','_').replace('&','and'))"
   ]
  },
  {
   "cell_type": "code",
   "execution_count": 2,
   "metadata": {},
   "outputs": [
    {
     "name": "stdout",
     "output_type": "stream",
     "text": [
      "120\n"
     ]
    }
   ],
   "source": [
    "print(len(inventory))"
   ]
  },
  {
   "cell_type": "code",
   "execution_count": 3,
   "metadata": {},
   "outputs": [
    {
     "name": "stdout",
     "output_type": "stream",
     "text": [
      "['shrimp', 'almonds', 'avocado', 'vegetables_mix', 'green_grapes', 'whole_weat_flour', 'yams', 'cottage_cheese', 'energy_drink', 'tomato_juice', 'low_fat_yogurt', 'green_tea', 'honey', 'salad', 'mineral_water', 'salmon', 'antioxydant_juice', 'frozen_smoothie', 'spinach', 'olive_oil', 'burgers', 'meatballs', 'eggs', 'chutney', 'turkey', 'milk', 'energy_bar', 'whole_wheat_rice', 'whole_wheat_pasta', 'french_fries', 'soup', 'light_cream', 'shallot', 'frozen_vegetables', 'spaghetti', 'pet_food', 'cookies', 'cooking_oil', 'champagne', 'chocolate', 'chicken', 'oil', 'fresh_tuna', 'tomatoes', 'black_tea', 'extra_dark_chocolate', 'protein_bar', 'red_wine', 'pasta', 'pepper', 'shampoo', 'rice', 'sparkling_water', 'ham', 'body_spray', 'pancakes', 'grated_cheese', 'white_wine', 'toothpaste', 'parmesan_cheese', 'fresh_bread', 'ground_beef', 'escalope', 'herb_and_pepper', 'tomato_sauce', 'magazines', 'strawberries', 'strong_cheese', 'pickles', 'cake', 'hot_dogs', 'brownies', 'cereals', 'clothes_accessories', 'bug_spray', 'muffins', 'light_mayo', 'gums', 'soda', 'cider', 'corn', 'yogurt_cake', 'mint', 'butter', 'asparagus', 'french_wine', 'salt', 'tea', 'barbecue_sauce', 'mayonnaise', 'zucchini', 'carrots', 'mushroom_cream_sauce', 'candy_bars', 'chili', 'mashed_potato', 'nonfat_milk', 'water_spray', 'chocolate_bread', 'mint_green_tea', 'eggplant', 'blueberries', 'bacon', 'fromage_blanc', 'gluten_free_bar', 'dessert_wine', 'flax_seed', 'hand_protein_bar', 'sandwich', 'babies_food', 'melons', 'cauliflower', 'green_beans', 'ketchup', 'bramble', 'burger_sauce', 'oatmeal', 'cream', 'napkins', '']\n",
      "['almonds', 'antioxydant_juice', 'asparagus', 'avocado', 'babies_food', 'bacon', 'barbecue_sauce', 'black_tea', 'blueberries', 'body_spray', 'bramble', 'brownies', 'bug_spray', 'burger_sauce', 'burgers', 'butter', 'cake', 'candy_bars', 'carrots', 'cauliflower', 'cereals', 'champagne', 'chicken', 'chili', 'chocolate', 'chocolate_bread', 'chutney', 'cider', 'clothes_accessories', 'cookies', 'cooking_oil', 'corn', 'cottage_cheese', 'cream', 'dessert_wine', 'eggplant', 'eggs', 'energy_bar', 'energy_drink', 'escalope', 'extra_dark_chocolate', 'flax_seed', 'french_fries', 'french_wine', 'fresh_bread', 'fresh_tuna', 'fromage_blanc', 'frozen_smoothie', 'frozen_vegetables', 'gluten_free_bar', 'grated_cheese', 'green_beans', 'green_grapes', 'green_tea', 'ground_beef', 'gums', 'ham', 'hand_protein_bar', 'herb_and_pepper', 'honey', 'hot_dogs', 'ketchup', 'light_cream', 'light_mayo', 'low_fat_yogurt', 'magazines', 'mashed_potato', 'mayonnaise', 'meatballs', 'melons', 'milk', 'mineral_water', 'mint', 'mint_green_tea', 'muffins', 'mushroom_cream_sauce', 'napkins', 'nonfat_milk', 'oatmeal', 'oil', 'olive_oil', 'pancakes', 'parmesan_cheese', 'pasta', 'pepper', 'pet_food', 'pickles', 'protein_bar', 'red_wine', 'rice', 'salad', 'salmon', 'salt', 'sandwich', 'shallot', 'shampoo', 'shrimp', 'soda', 'soup', 'spaghetti', 'sparkling_water', 'spinach', 'strawberries', 'strong_cheese', 'tea', 'tomato_juice', 'tomato_sauce', 'tomatoes', 'toothpaste', 'turkey', 'vegetables_mix', 'water_spray', 'white_wine', 'whole_weat_flour', 'whole_wheat_pasta', 'whole_wheat_rice', 'yams', 'yogurt_cake', 'zucchini']\n"
     ]
    }
   ],
   "source": [
    "\n",
    "print(inventory)\n",
    "inventory.pop()\n",
    "inventory.sort()\n",
    "print(inventory)"
   ]
  },
  {
   "cell_type": "code",
   "execution_count": 4,
   "metadata": {},
   "outputs": [
    {
     "name": "stdout",
     "output_type": "stream",
     "text": [
      "119\n"
     ]
    }
   ],
   "source": [
    "print(len(inventory))"
   ]
  },
  {
   "cell_type": "code",
   "execution_count": 5,
   "metadata": {},
   "outputs": [],
   "source": [
    "import pandas as pd\n"
   ]
  },
  {
   "cell_type": "code",
   "execution_count": 6,
   "metadata": {},
   "outputs": [],
   "source": [
    "test_dataset = pd.DataFrame(\n",
    "    [[1 if item in row else 0 for item in inventory] for row in tuples],\n",
    "    columns=inventory\n",
    ")"
   ]
  },
  {
   "cell_type": "code",
   "execution_count": 7,
   "metadata": {},
   "outputs": [
    {
     "data": {
      "text/html": [
       "<div>\n",
       "<style scoped>\n",
       "    .dataframe tbody tr th:only-of-type {\n",
       "        vertical-align: middle;\n",
       "    }\n",
       "\n",
       "    .dataframe tbody tr th {\n",
       "        vertical-align: top;\n",
       "    }\n",
       "\n",
       "    .dataframe thead th {\n",
       "        text-align: right;\n",
       "    }\n",
       "</style>\n",
       "<table border=\"1\" class=\"dataframe\">\n",
       "  <thead>\n",
       "    <tr style=\"text-align: right;\">\n",
       "      <th></th>\n",
       "      <th>almonds</th>\n",
       "      <th>antioxydant_juice</th>\n",
       "      <th>asparagus</th>\n",
       "      <th>avocado</th>\n",
       "      <th>babies_food</th>\n",
       "      <th>bacon</th>\n",
       "      <th>barbecue_sauce</th>\n",
       "      <th>black_tea</th>\n",
       "      <th>blueberries</th>\n",
       "      <th>body_spray</th>\n",
       "      <th>...</th>\n",
       "      <th>turkey</th>\n",
       "      <th>vegetables_mix</th>\n",
       "      <th>water_spray</th>\n",
       "      <th>white_wine</th>\n",
       "      <th>whole_weat_flour</th>\n",
       "      <th>whole_wheat_pasta</th>\n",
       "      <th>whole_wheat_rice</th>\n",
       "      <th>yams</th>\n",
       "      <th>yogurt_cake</th>\n",
       "      <th>zucchini</th>\n",
       "    </tr>\n",
       "  </thead>\n",
       "  <tbody>\n",
       "    <tr>\n",
       "      <th>0</th>\n",
       "      <td>1</td>\n",
       "      <td>0</td>\n",
       "      <td>0</td>\n",
       "      <td>1</td>\n",
       "      <td>0</td>\n",
       "      <td>0</td>\n",
       "      <td>0</td>\n",
       "      <td>0</td>\n",
       "      <td>0</td>\n",
       "      <td>0</td>\n",
       "      <td>...</td>\n",
       "      <td>0</td>\n",
       "      <td>0</td>\n",
       "      <td>0</td>\n",
       "      <td>0</td>\n",
       "      <td>0</td>\n",
       "      <td>0</td>\n",
       "      <td>0</td>\n",
       "      <td>1</td>\n",
       "      <td>0</td>\n",
       "      <td>0</td>\n",
       "    </tr>\n",
       "    <tr>\n",
       "      <th>1</th>\n",
       "      <td>0</td>\n",
       "      <td>0</td>\n",
       "      <td>0</td>\n",
       "      <td>0</td>\n",
       "      <td>0</td>\n",
       "      <td>0</td>\n",
       "      <td>0</td>\n",
       "      <td>0</td>\n",
       "      <td>0</td>\n",
       "      <td>0</td>\n",
       "      <td>...</td>\n",
       "      <td>0</td>\n",
       "      <td>0</td>\n",
       "      <td>0</td>\n",
       "      <td>0</td>\n",
       "      <td>0</td>\n",
       "      <td>0</td>\n",
       "      <td>0</td>\n",
       "      <td>0</td>\n",
       "      <td>0</td>\n",
       "      <td>0</td>\n",
       "    </tr>\n",
       "    <tr>\n",
       "      <th>2</th>\n",
       "      <td>0</td>\n",
       "      <td>0</td>\n",
       "      <td>0</td>\n",
       "      <td>0</td>\n",
       "      <td>0</td>\n",
       "      <td>0</td>\n",
       "      <td>0</td>\n",
       "      <td>0</td>\n",
       "      <td>0</td>\n",
       "      <td>0</td>\n",
       "      <td>...</td>\n",
       "      <td>0</td>\n",
       "      <td>0</td>\n",
       "      <td>0</td>\n",
       "      <td>0</td>\n",
       "      <td>0</td>\n",
       "      <td>0</td>\n",
       "      <td>0</td>\n",
       "      <td>0</td>\n",
       "      <td>0</td>\n",
       "      <td>0</td>\n",
       "    </tr>\n",
       "  </tbody>\n",
       "</table>\n",
       "<p>3 rows × 119 columns</p>\n",
       "</div>"
      ],
      "text/plain": [
       "   almonds  antioxydant_juice  asparagus  avocado  babies_food  bacon  \\\n",
       "0        1                  0          0        1            0      0   \n",
       "1        0                  0          0        0            0      0   \n",
       "2        0                  0          0        0            0      0   \n",
       "\n",
       "   barbecue_sauce  black_tea  blueberries  body_spray  ...  turkey  \\\n",
       "0               0          0            0           0  ...       0   \n",
       "1               0          0            0           0  ...       0   \n",
       "2               0          0            0           0  ...       0   \n",
       "\n",
       "   vegetables_mix  water_spray  white_wine  whole_weat_flour  \\\n",
       "0               0            0           0                 0   \n",
       "1               0            0           0                 0   \n",
       "2               0            0           0                 0   \n",
       "\n",
       "   whole_wheat_pasta  whole_wheat_rice  yams  yogurt_cake  zucchini  \n",
       "0                  0                 0     1            0         0  \n",
       "1                  0                 0     0            0         0  \n",
       "2                  0                 0     0            0         0  \n",
       "\n",
       "[3 rows x 119 columns]"
      ]
     },
     "execution_count": 7,
     "metadata": {},
     "output_type": "execute_result"
    }
   ],
   "source": [
    "test_dataset.head(3)"
   ]
  },
  {
   "cell_type": "code",
   "execution_count": 8,
   "metadata": {},
   "outputs": [
    {
     "data": {
      "text/plain": [
       "Index(['almonds', 'antioxydant_juice', 'asparagus', 'avocado', 'babies_food',\n",
       "       'bacon', 'barbecue_sauce', 'black_tea', 'blueberries', 'body_spray',\n",
       "       ...\n",
       "       'turkey', 'vegetables_mix', 'water_spray', 'white_wine',\n",
       "       'whole_weat_flour', 'whole_wheat_pasta', 'whole_wheat_rice', 'yams',\n",
       "       'yogurt_cake', 'zucchini'],\n",
       "      dtype='object', length=119)"
      ]
     },
     "execution_count": 8,
     "metadata": {},
     "output_type": "execute_result"
    }
   ],
   "source": [
    "test_dataset.columns"
   ]
  },
  {
   "cell_type": "code",
   "execution_count": 9,
   "metadata": {},
   "outputs": [
    {
     "data": {
      "text/plain": [
       "pandas.core.indexes.base.Index"
      ]
     },
     "execution_count": 9,
     "metadata": {},
     "output_type": "execute_result"
    }
   ],
   "source": [
    "type(test_dataset.columns)"
   ]
  },
  {
   "cell_type": "code",
   "execution_count": 10,
   "metadata": {},
   "outputs": [
    {
     "data": {
      "text/plain": [
       "np.int64(71)"
      ]
     },
     "execution_count": 10,
     "metadata": {},
     "output_type": "execute_result"
    }
   ],
   "source": [
    "test_dataset['zucchini'].sum()\n"
   ]
  },
  {
   "cell_type": "code",
   "execution_count": 11,
   "metadata": {},
   "outputs": [
    {
     "name": "stdout",
     "output_type": "stream",
     "text": [
      "Pandas(Index=0, almonds=1, antioxydant_juice=0, asparagus=0, avocado=1, babies_food=0, bacon=0, barbecue_sauce=0, black_tea=0, blueberries=0, body_spray=0, bramble=0, brownies=0, bug_spray=0, burger_sauce=0, burgers=0, butter=0, cake=0, candy_bars=0, carrots=0, cauliflower=0, cereals=0, champagne=0, chicken=0, chili=0, chocolate=0, chocolate_bread=0, chutney=0, cider=0, clothes_accessories=0, cookies=0, cooking_oil=0, corn=0, cottage_cheese=0, cream=0, dessert_wine=0, eggplant=0, eggs=0, energy_bar=0, energy_drink=0, escalope=0, extra_dark_chocolate=0, flax_seed=0, french_fries=0, french_wine=0, fresh_bread=0, fresh_tuna=0, fromage_blanc=0, frozen_smoothie=0, frozen_vegetables=0, gluten_free_bar=0, grated_cheese=0, green_beans=0, green_grapes=0, green_tea=0, ground_beef=0, gums=0, ham=0, hand_protein_bar=0, herb_and_pepper=0, honey=1, hot_dogs=0, ketchup=0, light_cream=0, light_mayo=0, low_fat_yogurt=0, magazines=0, mashed_potato=0, mayonnaise=0, meatballs=0, melons=0, milk=0, mineral_water=0, mint=0, mint_green_tea=0, muffins=0, mushroom_cream_sauce=0, napkins=0, nonfat_milk=0, oatmeal=0, oil=0, olive_oil=0, pancakes=0, parmesan_cheese=0, pasta=0, pepper=0, pet_food=0, pickles=0, protein_bar=0, red_wine=0, rice=0, salad=1, salmon=1, salt=0, sandwich=0, shallot=0, shampoo=0, shrimp=1, soda=0, soup=0, spaghetti=0, sparkling_water=0, spinach=1, strawberries=0, strong_cheese=0, tea=0, tomato_juice=0, tomato_sauce=0, tomatoes=0, toothpaste=0, turkey=0, vegetables_mix=0, water_spray=0, white_wine=0, whole_weat_flour=0, whole_wheat_pasta=0, whole_wheat_rice=0, yams=1, yogurt_cake=0, zucchini=0)\n",
      "1\n",
      "<class 'pandas.core.frame.Pandas'>\n"
     ]
    }
   ],
   "source": [
    "for tuple in test_dataset.itertuples():\n",
    "    print(tuple)\n",
    "    print(int( getattr(tuple, 'almonds')))\n",
    "    print(type(tuple))\n",
    "    break"
   ]
  },
  {
   "cell_type": "code",
   "execution_count": 12,
   "metadata": {},
   "outputs": [
    {
     "name": "stdout",
     "output_type": "stream",
     "text": [
      "Pandas(almonds=1, antioxydant_juice=0, asparagus=0, avocado=1, babies_food=0, bacon=0, barbecue_sauce=0, black_tea=0, blueberries=0, body_spray=0, bramble=0, brownies=0, bug_spray=0, burger_sauce=0, burgers=0, butter=0, cake=0, candy_bars=0, carrots=0, cauliflower=0, cereals=0, champagne=0, chicken=0, chili=0, chocolate=0, chocolate_bread=0, chutney=0, cider=0, clothes_accessories=0, cookies=0, cooking_oil=0, corn=0, cottage_cheese=0, cream=0, dessert_wine=0, eggplant=0, eggs=0, energy_bar=0, energy_drink=0, escalope=0, extra_dark_chocolate=0, flax_seed=0, french_fries=0, french_wine=0, fresh_bread=0, fresh_tuna=0, fromage_blanc=0, frozen_smoothie=0, frozen_vegetables=0, gluten_free_bar=0, grated_cheese=0, green_beans=0, green_grapes=0, green_tea=0, ground_beef=0, gums=0, ham=0, hand_protein_bar=0, herb_and_pepper=0, honey=1, hot_dogs=0, ketchup=0, light_cream=0, light_mayo=0, low_fat_yogurt=0, magazines=0, mashed_potato=0, mayonnaise=0, meatballs=0, melons=0, milk=0, mineral_water=0, mint=0, mint_green_tea=0, muffins=0, mushroom_cream_sauce=0, napkins=0, nonfat_milk=0, oatmeal=0, oil=0, olive_oil=0, pancakes=0, parmesan_cheese=0, pasta=0, pepper=0, pet_food=0, pickles=0, protein_bar=0, red_wine=0, rice=0, salad=1, salmon=1, salt=0, sandwich=0, shallot=0, shampoo=0, shrimp=1, soda=0, soup=0, spaghetti=0, sparkling_water=0, spinach=1, strawberries=0, strong_cheese=0, tea=0, tomato_juice=0, tomato_sauce=0, tomatoes=0, toothpaste=0, turkey=0, vegetables_mix=0, water_spray=0, white_wine=0, whole_weat_flour=0, whole_wheat_pasta=0, whole_wheat_rice=0, yams=1, yogurt_cake=0, zucchini=0)\n",
      "<class 'pandas.core.frame.Pandas'>\n",
      "[1 0 0 1 0 0 0 0 0 0 0 0 0 0 0 0 0 0 0 0 0 0 0 0 0 0 0 0 0 0 0 0 0 0 0 0 0\n",
      " 0 0 0 0 0 0 0 0 0 0 0 0 0 0 0 0 0 0 0 0 0 0 1 0 0 0 0 0 0 0 0 0 0 0 0 0 0\n",
      " 0 0 0 0 0 0 0 0 0 0 0 0 0 0 0 0 1 1 0 0 0 0 1 0 0 0 0 1 0 0 0 0 0 0 0 0 0\n",
      " 0 0 0 0 0 1 0 0]\n",
      "   almonds  antioxydant_juice  asparagus  avocado  babies_food  bacon  \\\n",
      "0        1                  0          0        1            0      0   \n",
      "1        0                  0          0        0            0      0   \n",
      "2        0                  0          0        0            0      0   \n",
      "\n",
      "   barbecue_sauce  black_tea  blueberries  body_spray  ...  turkey  \\\n",
      "0               0          0            0           0  ...       0   \n",
      "1               0          0            0           0  ...       0   \n",
      "2               0          0            0           0  ...       0   \n",
      "\n",
      "   vegetables_mix  water_spray  white_wine  whole_weat_flour  \\\n",
      "0               0            0           0                 0   \n",
      "1               0            0           0                 0   \n",
      "2               0            0           0                 0   \n",
      "\n",
      "   whole_wheat_pasta  whole_wheat_rice  yams  yogurt_cake  zucchini  \n",
      "0                  0                 0     1            0         0  \n",
      "1                  0                 0     0            0         0  \n",
      "2                  0                 0     0            0         0  \n",
      "\n",
      "[3 rows x 119 columns]\n"
     ]
    }
   ],
   "source": [
    "import numpy as np\n",
    "for tuple in test_dataset.itertuples(False):\n",
    "    print(tuple)\n",
    "    test_tuple = tuple\n",
    "    print(type(tuple))\n",
    "    print(np.asarray(tuple))\n",
    "    break\n",
    "\n",
    "dataset_mini = test_dataset.head(3)\n",
    "\n",
    "\n",
    "print(dataset_mini)"
   ]
  },
  {
   "cell_type": "code",
   "execution_count": 13,
   "metadata": {},
   "outputs": [
    {
     "data": {
      "text/plain": [
       "np.int64(1)"
      ]
     },
     "execution_count": 13,
     "metadata": {},
     "output_type": "execute_result"
    }
   ],
   "source": [
    "dataset_mini.loc[0,'almonds']"
   ]
  },
  {
   "cell_type": "code",
   "execution_count": 14,
   "metadata": {},
   "outputs": [],
   "source": [
    "\n",
    "from pandas import DataFrame\n",
    "\n",
    "\n",
    "def support(T: DataFrame ,X_U_Y: list | dict):\n",
    "    '''\n",
    "    Parameters:\n",
    "    T (dataframe)\n",
    "    X_U_Y (list | dict) : name of the attributes considered (X U Y)\n",
    "    Return:\n",
    "    float: support of the attributes in the dataset\n",
    "    '''\n",
    "    for attribute in X_U_Y:\n",
    "        if attribute not in T.columns:\n",
    "             return ValueError\n",
    "    count = 0\n",
    "    for tuple in T.itertuples(False):\n",
    "        contained = True\n",
    "        for attribute in X_U_Y:\n",
    "            try: \n",
    "                if getattr(tuple,attribute) == 0:\n",
    "                    contained = False\n",
    "                    break\n",
    "            except AttributeError:\n",
    "                contained = False,\n",
    "                break\n",
    "\n",
    "        if contained:\n",
    "            count += 1 \n",
    "    return count/len(T)\n",
    "    "
   ]
  },
  {
   "cell_type": "code",
   "execution_count": 15,
   "metadata": {},
   "outputs": [
    {
     "data": {
      "text/plain": [
       "0.0"
      ]
     },
     "execution_count": 15,
     "metadata": {},
     "output_type": "execute_result"
    }
   ],
   "source": [
    "support(test_dataset,['herb_and_pepper'])"
   ]
  },
  {
   "cell_type": "code",
   "execution_count": 16,
   "metadata": {},
   "outputs": [],
   "source": [
    "\n",
    "def confidence(T: DataFrame, X: list | dict, Y: list | dict):\n",
    "    '''\n",
    "    Parameters:\n",
    "    T (dataframe)\n",
    "    X ( list | dict): X part of X ==> Y rule\n",
    "    X (list | disct): Y part of X ==> Y rule\n",
    "    '''\n",
    "    if len(X)+len(Y) > len(T.columns):\n",
    "        return ValueError\n",
    "    for item in X:\n",
    "        if Y.__contains__(item):\n",
    "            return ValueError # XY = empty set\n",
    "    \n",
    "    countX=0\n",
    "    countY=0\n",
    "    for tuple in T.itertuples():\n",
    "        containedX = True\n",
    "        for attribute in X:\n",
    "            if getattr(tuple,attribute) == 0:\n",
    "                containedX = False\n",
    "                break\n",
    "        if containedX:\n",
    "            countX += 1\n",
    "            containedY=True\n",
    "            for attribute in Y:\n",
    "                if attribute == '':\n",
    "                    containedY = False\n",
    "                    break\n",
    "                if getattr(tuple,attribute) == 0:\n",
    "                    containedY = False\n",
    "                    break\n",
    "            if containedY:\n",
    "                countY += 1\n",
    "    return countY/countX    "
   ]
  },
  {
   "cell_type": "code",
   "execution_count": 17,
   "metadata": {},
   "outputs": [
    {
     "data": {
      "text/plain": [
       "0.08"
      ]
     },
     "execution_count": 17,
     "metadata": {},
     "output_type": "execute_result"
    }
   ],
   "source": [
    "confidence(test_dataset,['spaghetti','champagne'],['cookies'])\n",
    "#spaghetti,champagne,cookies"
   ]
  },
  {
   "cell_type": "code",
   "execution_count": 18,
   "metadata": {},
   "outputs": [],
   "source": [
    "def Apriori(items, dataset, min_sup, levels: int):\n",
    "    '''\n",
    "    rules[0] = empty set\n",
    "    rules[1] = rules of length 1\n",
    "    rules[2] = rules of length 2\n",
    "\n",
    "\n",
    "    rules[len(items)] = items\n",
    "    ...\n",
    "    '''\n",
    "    rules = [\n",
    "        [],\n",
    "        [ [item] for item in items ]\n",
    "    ]\n",
    "\n",
    "\n",
    "    # iterate over all the possible rules length from 1 to len(items)\n",
    "    for i in range(1, levels+1):\n",
    "        print(f\"Apriori Level: {i}\")\n",
    "        # remove all the rules in rules[i]\n",
    "        # that don't have a support of at least min_sup\n",
    "\n",
    "        #print(f\"RULES[{i}] BEFORE\", rules[i])\n",
    "\n",
    "        rules[i] = [\n",
    "            rule\n",
    "            for rule in rules[i]\n",
    "            if support(dataset, rule) >= min_sup\n",
    "        ]\n",
    "        \n",
    "        '''\n",
    "        print(f\"RULES[{i}] SUPPORT\", [\n",
    "            support(dataset, rule)\n",
    "            for rule in rules[i]\n",
    "        ]\n",
    "        )'''\n",
    "\n",
    "\n",
    "        #print(f\"RULES[{i}] AFTER\", rules[i])\n",
    "\n",
    "        if len(rules[i]) == 0:\n",
    "            break\n",
    "\n",
    "\n",
    "        # generate all the possibile \n",
    "        # rules with i+1 elements\n",
    "        rules.append([]) # create the element rules[i+1]\n",
    "\n",
    "        #print(\"RULE[i]\", rules[i])\n",
    "        #print(\"RULE[i+1]\", rules[i+1])\n",
    "        for rule in rules[i]:\n",
    "            for item in items:\n",
    "\n",
    "                # skip if item is already inside the rule\n",
    "                if item in rule:\n",
    "                    continue\n",
    "\n",
    "                rules[i+1].append ( rule + [item] )\n",
    "                # create a new rule composed of rule + [item]\n",
    "\n",
    "\n",
    "        #print(\"RULE[i+1]\", rules[i+1])\n",
    "    \n",
    "        #print()\n",
    "        #print()\n",
    "        #print()\n",
    "\n",
    "    return rules"
   ]
  },
  {
   "cell_type": "code",
   "execution_count": 19,
   "metadata": {},
   "outputs": [],
   "source": [
    "\n",
    "#rules = Apriori(inventory,test_dataset,0.004, 4)"
   ]
  },
  {
   "cell_type": "code",
   "execution_count": 20,
   "metadata": {},
   "outputs": [],
   "source": [
    "#print(rules)"
   ]
  },
  {
   "cell_type": "code",
   "execution_count": 21,
   "metadata": {},
   "outputs": [
    {
     "data": {
      "text/plain": [
       "0.9627254305028914"
      ]
     },
     "execution_count": 21,
     "metadata": {},
     "output_type": "execute_result"
    }
   ],
   "source": [
    "import random\n",
    "random.random()"
   ]
  },
  {
   "cell_type": "code",
   "execution_count": 22,
   "metadata": {},
   "outputs": [
    {
     "name": "stdout",
     "output_type": "stream",
     "text": [
      "[['almonds', 0.020397280362618318], ['antioxydant_juice', 0.0], ['asparagus', 0.004666044527396347], ['avocado', 0.03332888948140248], ['babies_food', 0.0], ['bacon', 0.008665511265164644], ['barbecue_sauce', 0.0], ['black_tea', 0.0], ['blueberries', 0.009198773496867084], ['body_spray', 0.0], ['bramble', 0.0018664178109585388], ['brownies', 0.03372883615517931], ['bug_spray', 0.0], ['burger_sauce', 0.0], ['burgers', 0.0871883748833489], ['butter', 0.030129316091187842], ['cake', 0.08105585921877083], ['candy_bars', 0.0], ['carrots', 0.01533128916144514], ['cauliflower', 0.004799360085321957], ['cereals', 0.025729902679642713], ['champagne', 0.04679376083188908], ['chicken', 0.05999200106652446], ['chili', 0.0061325156645780565], ['chocolate', 0.1638448206905746], ['chocolate_bread', 0.0], ['chutney', 0.0041327822956939075], ['cider', 0.010531929076123183], ['clothes_accessories', 0.0], ['cookies', 0.08038928142914278], ['cooking_oil', 0.0], ['corn', 0.004799360085321957], ['cottage_cheese', 0.0], ['cream', 0.0009332089054792694], ['dessert_wine', 0.0], ['eggplant', 0.013198240234635382], ['eggs', 0.17970937208372217], ['energy_bar', 0.0], ['energy_drink', 0.0], ['escalope', 0.0793227569657379], ['extra_dark_chocolate', 0.0], ['flax_seed', 0.0], ['french_fries', 0.0], ['french_wine', 0.0], ['fresh_bread', 0.0], ['fresh_tuna', 0.0], ['fromage_blanc', 0.0], ['frozen_smoothie', 0.0], ['frozen_vegetables', 0.0], ['gluten_free_bar', 0.0], ['grated_cheese', 0.0], ['green_beans', 0.0], ['green_grapes', 0.0], ['green_tea', 0.0], ['ground_beef', 0.0], ['gums', 0.013464871350486601], ['ham', 0.026529796027196375], ['hand_protein_bar', 0.0], ['herb_and_pepper', 0.0], ['honey', 0.047460338621517134], ['hot_dogs', 0.0], ['ketchup', 0.004399413411545127], ['light_cream', 0.0], ['light_mayo', 0.0], ['low_fat_yogurt', 0.0], ['magazines', 0.010931875749900012], ['mashed_potato', 0.0], ['mayonnaise', 0.0061325156645780565], ['meatballs', 0.020930542594320756], ['melons', 0.011998400213304892], ['milk', 0.12958272230369283], ['mineral_water', 0.0], ['mint', 0.0174643380882549], ['mint_green_tea', 0.0], ['muffins', 0.024130115984535395], ['mushroom_cream_sauce', 0.0], ['napkins', 0.0006665777896280496], ['nonfat_milk', 0.0], ['oatmeal', 0.004399413411545127], ['oil', 0.023063591521130515], ['olive_oil', 0.0], ['pancakes', 0.09505399280095987], ['parmesan_cheese', 0.0], ['pasta', 0.01573123583522197], ['pepper', 0.026529796027196375], ['pet_food', 0.0], ['pickles', 0.005999200106652446], ['protein_bar', 0.0], ['red_wine', 0.0], ['rice', 0.018797493667511], ['salad', 0.004932675643247567], ['salmon', 0.04252766297826956], ['salt', 0.009198773496867084], ['sandwich', 0.004532728969470737], ['shallot', 0.007732302359685375], ['shampoo', 0.004932675643247567], ['shrimp', 0.07145713904812692], ['soda', 0.006265831222503666], ['soup', 0.05052659645380616], ['spaghetti', 0.17411011865084655], ['sparkling_water', 0.0], ['spinach', 0.007065724570057326], ['strawberries', 0.021330489268097587], ['strong_cheese', 0.0], ['tea', 0.0038661511798426876], ['tomato_juice', 0.0], ['tomato_sauce', 0.0], ['tomatoes', 0.06839088121583789], ['toothpaste', 0.008132249033462205], ['turkey', 0.06252499666711105], ['vegetables_mix', 0.0], ['water_spray', 0.0], ['white_wine', 0.0], ['whole_weat_flour', 0.0], ['whole_wheat_pasta', 0.0], ['whole_wheat_rice', 0.0], ['yams', 0.011465137981602452], ['yogurt_cake', 0.0], ['zucchini', 0.009465404612718305]]\n",
      "0.017458736594224412\n",
      "[['almonds', 0.020397280362618318], ['antioxydant_juice', 0.0], ['asparagus', 0.004666044527396347], ['avocado', 0.03332888948140248], ['babies_food', 0.0], ['bacon', 0.008665511265164644], ['barbecue_sauce', 0.0], ['black_tea', 0.0], ['blueberries', 0.009198773496867084], ['body_spray', 0.0], ['bramble', 0.0018664178109585388], ['brownies', 0.03372883615517931], ['bug_spray', 0.0], ['burger_sauce', 0.0], ['burgers', 0.0871883748833489], ['butter', 0.030129316091187842], ['cake', 0.08105585921877083], ['candy_bars', 0.0], ['carrots', 0.01533128916144514], ['cauliflower', 0.004799360085321957], ['cereals', 0.025729902679642713], ['champagne', 0.04679376083188908], ['chicken', 0.05999200106652446], ['chili', 0.0061325156645780565], ['chocolate', 0.1638448206905746], ['chocolate_bread', 0.0], ['chutney', 0.0041327822956939075], ['cider', 0.010531929076123183], ['clothes_accessories', 0.0], ['cookies', 0.08038928142914278], ['cooking_oil', 0.0], ['corn', 0.004799360085321957], ['cottage_cheese', 0.0], ['cream', 0.0009332089054792694], ['dessert_wine', 0.0], ['eggplant', 0.013198240234635382], ['eggs', 0.17970937208372217], ['energy_bar', 0.0], ['energy_drink', 0.0], ['escalope', 0.0793227569657379], ['extra_dark_chocolate', 0.0], ['flax_seed', 0.0], ['french_fries', 0.0], ['french_wine', 0.0], ['fresh_bread', 0.0], ['fresh_tuna', 0.0], ['fromage_blanc', 0.0], ['frozen_smoothie', 0.0], ['frozen_vegetables', 0.0], ['gluten_free_bar', 0.0], ['grated_cheese', 0.0], ['green_beans', 0.0], ['green_grapes', 0.0], ['green_tea', 0.0], ['ground_beef', 0.0], ['gums', 0.013464871350486601], ['ham', 0.026529796027196375], ['hand_protein_bar', 0.0], ['herb_and_pepper', 0.0], ['honey', 0.047460338621517134], ['hot_dogs', 0.0], ['ketchup', 0.004399413411545127], ['light_cream', 0.0], ['light_mayo', 0.0], ['low_fat_yogurt', 0.0], ['magazines', 0.010931875749900012], ['mashed_potato', 0.0], ['mayonnaise', 0.0061325156645780565], ['meatballs', 0.020930542594320756], ['melons', 0.011998400213304892], ['milk', 0.12958272230369283], ['mineral_water', 0.0], ['mint', 0.0174643380882549], ['mint_green_tea', 0.0], ['muffins', 0.024130115984535395], ['mushroom_cream_sauce', 0.0], ['napkins', 0.0006665777896280496], ['nonfat_milk', 0.0], ['oatmeal', 0.004399413411545127], ['oil', 0.023063591521130515], ['olive_oil', 0.0], ['pancakes', 0.09505399280095987], ['parmesan_cheese', 0.0], ['pasta', 0.01573123583522197], ['pepper', 0.026529796027196375], ['pet_food', 0.0], ['pickles', 0.005999200106652446], ['protein_bar', 0.0], ['red_wine', 0.0], ['rice', 0.018797493667511], ['salad', 0.004932675643247567], ['salmon', 0.04252766297826956], ['salt', 0.009198773496867084], ['sandwich', 0.004532728969470737], ['shallot', 0.007732302359685375], ['shampoo', 0.004932675643247567], ['shrimp', 0.07145713904812692], ['soda', 0.006265831222503666], ['soup', 0.05052659645380616], ['spaghetti', 0.17411011865084655], ['sparkling_water', 0.0], ['spinach', 0.007065724570057326], ['strawberries', 0.021330489268097587], ['strong_cheese', 0.0], ['tea', 0.0038661511798426876], ['tomato_juice', 0.0], ['tomato_sauce', 0.0], ['tomatoes', 0.06839088121583789], ['toothpaste', 0.008132249033462205], ['turkey', 0.06252499666711105], ['vegetables_mix', 0.0], ['water_spray', 0.0], ['white_wine', 0.0], ['whole_weat_flour', 0.0], ['whole_wheat_pasta', 0.0], ['whole_wheat_rice', 0.0], ['yams', 0.011465137981602452], ['yogurt_cake', 0.0], ['zucchini', 0.009465404612718305]]\n",
      "[['almonds', 0.020397280362618318], ['avocado', 0.03332888948140248], ['brownies', 0.03372883615517931], ['burgers', 0.0871883748833489], ['butter', 0.030129316091187842], ['cake', 0.08105585921877083], ['cereals', 0.025729902679642713], ['champagne', 0.04679376083188908], ['chicken', 0.05999200106652446], ['chocolate', 0.1638448206905746], ['cookies', 0.08038928142914278], ['eggs', 0.17970937208372217], ['escalope', 0.0793227569657379], ['ham', 0.026529796027196375], ['honey', 0.047460338621517134], ['meatballs', 0.020930542594320756], ['milk', 0.12958272230369283], ['mint', 0.0174643380882549], ['muffins', 0.024130115984535395], ['oil', 0.023063591521130515], ['pancakes', 0.09505399280095987], ['pepper', 0.026529796027196375], ['rice', 0.018797493667511], ['salmon', 0.04252766297826956], ['shrimp', 0.07145713904812692], ['soup', 0.05052659645380616], ['spaghetti', 0.17411011865084655], ['strawberries', 0.021330489268097587], ['tomatoes', 0.06839088121583789], ['turkey', 0.06252499666711105]]\n",
      "[['antioxydant_juice', 0.0], ['asparagus', 0.004666044527396347], ['babies_food', 0.0], ['bacon', 0.008665511265164644], ['barbecue_sauce', 0.0], ['black_tea', 0.0], ['blueberries', 0.009198773496867084], ['body_spray', 0.0], ['bramble', 0.0018664178109585388], ['bug_spray', 0.0], ['burger_sauce', 0.0], ['candy_bars', 0.0], ['carrots', 0.01533128916144514], ['cauliflower', 0.004799360085321957], ['chili', 0.0061325156645780565], ['chocolate_bread', 0.0], ['chutney', 0.0041327822956939075], ['cider', 0.010531929076123183], ['clothes_accessories', 0.0], ['cooking_oil', 0.0], ['corn', 0.004799360085321957], ['cottage_cheese', 0.0], ['cream', 0.0009332089054792694], ['dessert_wine', 0.0], ['eggplant', 0.013198240234635382], ['energy_bar', 0.0], ['energy_drink', 0.0], ['extra_dark_chocolate', 0.0], ['flax_seed', 0.0], ['french_fries', 0.0], ['french_wine', 0.0], ['fresh_bread', 0.0], ['fresh_tuna', 0.0], ['fromage_blanc', 0.0], ['frozen_smoothie', 0.0], ['frozen_vegetables', 0.0], ['gluten_free_bar', 0.0], ['grated_cheese', 0.0], ['green_beans', 0.0], ['green_grapes', 0.0], ['green_tea', 0.0], ['ground_beef', 0.0], ['gums', 0.013464871350486601], ['hand_protein_bar', 0.0], ['herb_and_pepper', 0.0], ['hot_dogs', 0.0], ['ketchup', 0.004399413411545127], ['light_cream', 0.0], ['light_mayo', 0.0], ['low_fat_yogurt', 0.0], ['magazines', 0.010931875749900012], ['mashed_potato', 0.0], ['mayonnaise', 0.0061325156645780565], ['melons', 0.011998400213304892], ['mineral_water', 0.0], ['mint_green_tea', 0.0], ['mushroom_cream_sauce', 0.0], ['napkins', 0.0006665777896280496], ['nonfat_milk', 0.0], ['oatmeal', 0.004399413411545127], ['olive_oil', 0.0], ['parmesan_cheese', 0.0], ['pasta', 0.01573123583522197], ['pet_food', 0.0], ['pickles', 0.005999200106652446], ['protein_bar', 0.0], ['red_wine', 0.0], ['salad', 0.004932675643247567], ['salt', 0.009198773496867084], ['sandwich', 0.004532728969470737], ['shallot', 0.007732302359685375], ['shampoo', 0.004932675643247567], ['soda', 0.006265831222503666], ['sparkling_water', 0.0], ['spinach', 0.007065724570057326], ['strong_cheese', 0.0], ['tea', 0.0038661511798426876], ['tomato_juice', 0.0], ['tomato_sauce', 0.0], ['toothpaste', 0.008132249033462205], ['vegetables_mix', 0.0], ['water_spray', 0.0], ['white_wine', 0.0], ['whole_weat_flour', 0.0], ['whole_wheat_pasta', 0.0], ['whole_wheat_rice', 0.0], ['yams', 0.011465137981602452], ['yogurt_cake', 0.0], ['zucchini', 0.009465404612718305]]\n",
      "119\n",
      "30\n",
      "89\n"
     ]
    }
   ],
   "source": [
    "support_vector = [[item,support(test_dataset,[item])] for item in inventory]\n",
    "print(support_vector)\n",
    "mean_support = np.mean([sublist[1] for sublist in support_vector])\n",
    "print(mean_support)\n",
    "\n",
    "frequent_item = []\n",
    "infrequent_item = []\n",
    "\n",
    "\n",
    "for item in support_vector:\n",
    "    if item[1]>mean_support:\n",
    "        frequent_item.append(item)\n",
    "    else:\n",
    "        infrequent_item.append(item)\n",
    "\n",
    "\n",
    "\n",
    "support_vector\n",
    "print(support_vector)\n",
    "print(frequent_item)\n",
    "print(infrequent_item)\n",
    "\n",
    "print(len(support_vector))\n",
    "print(len(frequent_item))\n",
    "print(len(infrequent_item))"
   ]
  },
  {
   "cell_type": "code",
   "execution_count": 23,
   "metadata": {},
   "outputs": [],
   "source": [
    "import random\n",
    "\n",
    "def MASK_Distortion(dataset: DataFrame, p: float):\n",
    "    '''\n",
    "    MASK\n",
    "    \n",
    "    choose a probability p\n",
    "\n",
    "    2 event\n",
    "    P(x = true) -> 1-p % -> we add or remove an element in the transaction\n",
    "    P(x = false) -> p% -> the transaction remains the same\n",
    "    '''\n",
    "    distorted_dataset = dataset.copy(deep=True)\n",
    "    for i in range(0,len(distorted_dataset)):\n",
    "        for column in distorted_dataset.columns:\n",
    "            event = random.random()\n",
    "            if event > p:\n",
    "                distorted_dataset.loc[i, column] = int(not dataset.loc[i, column])\n",
    "\n",
    "    return distorted_dataset\n",
    "\n",
    "        \n",
    "\n"
   ]
  },
  {
   "cell_type": "code",
   "execution_count": 24,
   "metadata": {},
   "outputs": [],
   "source": [
    "def MASK_frequent_infrequent_items(support_vector,sup_min):\n",
    "    frequent_item = []\n",
    "    infrequent_item = []\n",
    "\n",
    "    for item in support_vector:\n",
    "        if item[1]>sup_min:\n",
    "            frequent_item.append(item[0])\n",
    "        else:\n",
    "            infrequent_item.append(item[0])\n",
    "    return frequent_item,infrequent_item"
   ]
  },
  {
   "cell_type": "code",
   "execution_count": 25,
   "metadata": {},
   "outputs": [],
   "source": [
    "p = 0.9\n",
    "distorted_test_dataset = MASK_Distortion(test_dataset,p)"
   ]
  },
  {
   "cell_type": "code",
   "execution_count": 26,
   "metadata": {},
   "outputs": [],
   "source": [
    "def hammingDistanceBitwise(a:int,b:int):\n",
    "    return (a^b).bit_count()"
   ]
  },
  {
   "cell_type": "code",
   "execution_count": 27,
   "metadata": {},
   "outputs": [
    {
     "data": {
      "text/plain": [
       "2"
      ]
     },
     "execution_count": 27,
     "metadata": {},
     "output_type": "execute_result"
    }
   ],
   "source": [
    "hammingDistanceBitwise(int(1),int(2))"
   ]
  },
  {
   "cell_type": "code",
   "execution_count": 28,
   "metadata": {},
   "outputs": [
    {
     "name": "stdout",
     "output_type": "stream",
     "text": [
      "[[8. 0. 0.]\n",
      " [0. 8. 0.]\n",
      " [0. 0. 8.]]\n"
     ]
    }
   ],
   "source": [
    "import numpy as np\n",
    "import math\n",
    "M = np.diag([math.pow(2,3) for i in range(0,3)])\n",
    "print(M)"
   ]
  },
  {
   "cell_type": "code",
   "execution_count": 29,
   "metadata": {},
   "outputs": [],
   "source": [
    "import numpy as np\n",
    "import math\n",
    "def computeM(size: int, p: float):\n",
    "    max_exp = int(math.log2(size))\n",
    "    M = np.diag([math.pow(p,max_exp) for i in range(size)])\n",
    "    for i in range(0,size):\n",
    "        for j in range(i+1,size):\n",
    "            difference = hammingDistanceBitwise(i,j)\n",
    "            M[i][j] = math.pow(1-p,difference)*math.pow(p,max_exp-difference)\n",
    "\n",
    "    for i in range(1,size):\n",
    "        for j in range(i,-1,-1):\n",
    "            M[i][j] = M[j][i]\n",
    "\n",
    "    return M\n"
   ]
  },
  {
   "cell_type": "code",
   "execution_count": 30,
   "metadata": {},
   "outputs": [
    {
     "name": "stdout",
     "output_type": "stream",
     "text": [
      "[[0.01 0.09 0.09 0.81]\n",
      " [0.09 0.01 0.81 0.09]\n",
      " [0.09 0.81 0.01 0.09]\n",
      " [0.81 0.09 0.09 0.01]]\n",
      "1.0\n"
     ]
    }
   ],
   "source": [
    "M_test = computeM(int(math.pow(2,2)),0.1)\n",
    "print(M_test)\n",
    "print(sum(M_test[0]))"
   ]
  },
  {
   "cell_type": "code",
   "execution_count": 32,
   "metadata": {},
   "outputs": [],
   "source": [
    "def computeLinC_D(dataset: DataFrame,rule: list | dict):\n",
    "    linC_D = np.zeros(len(rule)+1,dtype=int)\n",
    "    reducted_ds = dataset[rule] # posso prendere solo le colonne interessanti\n",
    "    for tuple in reducted_ds.itertuples(False):\n",
    "        '''sum = 0\n",
    "        for attribute in rule:\n",
    "            sum += getattr(tuple,attribute) # o farlo qua con il for\n",
    "            linC_D[sum] += 1\n",
    "        '''\n",
    "        \n",
    "        linC_D[np.sum(tuple,axis=0)] += 1\n",
    "    \n",
    "    return linC_D\n",
    "    "
   ]
  },
  {
   "cell_type": "code",
   "execution_count": 57,
   "metadata": {},
   "outputs": [],
   "source": [
    "def vectormatrixProdMod(linC_D,matrix):\n",
    "    size = matrix.shape[0]\n",
    "    row = matrix[size-1]\n",
    "    sum=0\n",
    "    for j in range(len(linC_D)):\n",
    "        index = int(math.pow(2,j))-1\n",
    "        #print(str(row[index])+\" * \"+str(linC_D[j]))\n",
    "        sum += row[index]*linC_D[j]\n",
    "    return sum"
   ]
  },
  {
   "cell_type": "code",
   "execution_count": 35,
   "metadata": {},
   "outputs": [
    {
     "name": "stdout",
     "output_type": "stream",
     "text": [
      "[[ 1.265625 -0.140625 -0.140625  0.015625]\n",
      " [-0.140625  1.265625  0.015625 -0.140625]\n",
      " [-0.140625  0.015625  1.265625 -0.140625]\n",
      " [ 0.015625 -0.140625 -0.140625  1.265625]]\n",
      "1.0\n"
     ]
    }
   ],
   "source": [
    "from numpy.linalg import inv\n",
    "\n",
    "M_test = inv(computeM(2**2,p))\n",
    "print(M_test)\n",
    "print(sum(M_test[3]))"
   ]
  },
  {
   "cell_type": "code",
   "execution_count": 58,
   "metadata": {},
   "outputs": [],
   "source": [
    "from numpy.linalg import inv\n",
    "\n",
    "def MASK_Support(dataset:DataFrame, rule, p:float, M_inv = None):\n",
    "    if M_inv is None:\n",
    "        M_inv = inv(\n",
    "            computeM(\n",
    "                size=int(math.pow(2,len(rule))),\n",
    "                p=p\n",
    "            )\n",
    "        )\n",
    "\n",
    "    linC_D = computeLinC_D(dataset,rule)\n",
    "\n",
    "    #print(linC_D)\n",
    "    #print(M_inv)\n",
    "\n",
    "    C_T_11 = vectormatrixProdMod(linC_D,M_inv)\n",
    "\n",
    "    #print(C_T_11)\n",
    "\n",
    "    return C_T_11/len(dataset)\n",
    "    "
   ]
  },
  {
   "cell_type": "code",
   "execution_count": 42,
   "metadata": {},
   "outputs": [],
   "source": [
    "\n",
    "def MASK_Apriori(dataset: DataFrame, p: float, min_sup,levels: int):\n",
    "    rules = [\n",
    "        [],\n",
    "        [ [item] for item in dataset.columns ]\n",
    "    ]\n",
    "\n",
    "    for i in range(1, levels+1):\n",
    "        print(f\"Constructing Level: {i}\")\n",
    "        # remove all the rules in rules[i]\n",
    "        # that don't have a support of at least min_sup\n",
    "\n",
    "        #print(f\"RULES[{i}] BEFORE\", rules[i]\n",
    "        \n",
    "        if len(rules[i]) == 0:\n",
    "            break\n",
    "\n",
    "\n",
    "        \n",
    "\n",
    "        if i <levels:\n",
    "            rules.append([])\n",
    "            for rule in rules[i]:\n",
    "                for item in dataset.columns:\n",
    "\n",
    "                    # skip if item is already inside the rule\n",
    "                    if item in rule:\n",
    "                        continue\n",
    "\n",
    "                    else: rules[i+1].append ( rule + [item] )\n",
    "                    # create a new rule composed of rule + [item]\n",
    "\n",
    "    for i in range(1,levels+1):\n",
    "        print(f\"Analysing Level: {i}\")\n",
    "        size = int(math.pow(2,i))\n",
    "        M_inv = inv(\n",
    "            computeM(size,p)\n",
    "        )\n",
    "        \n",
    "        rules[i] = [\n",
    "            rule\n",
    "            for rule in rules[i]\n",
    "            if MASK_Support(dataset,rule,p,M_inv) >= min_sup\n",
    "        ]\n",
    "\n",
    "    return rules\n",
    "\n",
    "\n",
    "\n",
    "\n",
    "    "
   ]
  },
  {
   "cell_type": "code",
   "execution_count": 44,
   "metadata": {},
   "outputs": [
    {
     "name": "stdout",
     "output_type": "stream",
     "text": [
      "['almonds', 'antioxydant_juice', 'asparagus', 'avocado', 'babies_food', 'bacon', 'barbecue_sauce', 'black_tea', 'blueberries', 'body_spray']\n"
     ]
    }
   ],
   "source": [
    "reduced_inventory = inventory[0:10]\n",
    "print(reduced_inventory)"
   ]
  },
  {
   "cell_type": "code",
   "execution_count": 45,
   "metadata": {},
   "outputs": [
    {
     "name": "stdout",
     "output_type": "stream",
     "text": [
      "     almonds  antioxydant_juice  asparagus  avocado  babies_food  bacon  \\\n",
      "0          1                  0          0        1            0      0   \n",
      "1          0                  0          0        0            0      0   \n",
      "2          0                  0          0        0            0      0   \n",
      "3          0                  0          0        1            0      0   \n",
      "4          0                  0          0        0            0      0   \n",
      "..       ...                ...        ...      ...          ...    ...   \n",
      "995        0                  0          0        0            0      0   \n",
      "996        0                  0          0        0            0      0   \n",
      "997        0                  0          0        0            0      0   \n",
      "998        0                  0          0        0            0      0   \n",
      "999        0                  0          0        0            0      0   \n",
      "\n",
      "     barbecue_sauce  black_tea  blueberries  body_spray  \n",
      "0                 0          0            0           0  \n",
      "1                 0          0            0           0  \n",
      "2                 0          0            0           0  \n",
      "3                 0          0            0           0  \n",
      "4                 0          0            0           0  \n",
      "..              ...        ...          ...         ...  \n",
      "995               0          0            0           0  \n",
      "996               0          0            0           0  \n",
      "997               0          0            0           0  \n",
      "998               0          0            0           0  \n",
      "999               0          0            0           0  \n",
      "\n",
      "[1000 rows x 10 columns]\n"
     ]
    }
   ],
   "source": [
    "reduced_test_ds = test_dataset.iloc[0:1000, 0:10]\n",
    "print(reduced_test_ds)"
   ]
  },
  {
   "cell_type": "code",
   "execution_count": 47,
   "metadata": {},
   "outputs": [
    {
     "name": "stdout",
     "output_type": "stream",
     "text": [
      "[['almonds', 0.028], ['antioxydant_juice', 0.0], ['asparagus', 0.006], ['avocado', 0.035], ['babies_food', 0.0], ['bacon', 0.008], ['barbecue_sauce', 0.0], ['black_tea', 0.0], ['blueberries', 0.01], ['body_spray', 0.0]]\n",
      "0.008700000000000001\n"
     ]
    }
   ],
   "source": [
    "support_vector_reduced = [[item,support(reduced_test_ds,[item])] for item in reduced_inventory]\n",
    "print(support_vector_reduced)\n",
    "mean_reduced_support = np.mean([sublist[1] for sublist in support_vector_reduced])\n",
    "print(mean_reduced_support)"
   ]
  },
  {
   "cell_type": "code",
   "execution_count": 48,
   "metadata": {},
   "outputs": [],
   "source": [
    "p = 0.9\n",
    "reduced_distorted_test_ds = MASK_Distortion(reduced_test_ds,p)"
   ]
  },
  {
   "cell_type": "code",
   "execution_count": 49,
   "metadata": {},
   "outputs": [
    {
     "name": "stdout",
     "output_type": "stream",
     "text": [
      "Apriori Level: 1\n",
      "Apriori Level: 2\n",
      "Apriori Level: 3\n",
      "[[], [['almonds'], ['asparagus'], ['avocado'], ['bacon'], ['blueberries']], [['almonds', 'avocado'], ['avocado', 'almonds'], ['avocado', 'bacon'], ['avocado', 'blueberries'], ['bacon', 'avocado'], ['blueberries', 'avocado']], []]\n"
     ]
    }
   ],
   "source": [
    "min_sup = 0.001\n",
    "levels=3\n",
    "rules = Apriori(reduced_inventory,reduced_test_ds,min_sup,4)\n",
    "print(rules)"
   ]
  },
  {
   "cell_type": "code",
   "execution_count": 53,
   "metadata": {},
   "outputs": [
    {
     "name": "stdout",
     "output_type": "stream",
     "text": [
      "Constructing Level: 1\n",
      "Constructing Level: 2\n",
      "Constructing Level: 3\n",
      "Analysing Level: 1\n",
      "Analysing Level: 2\n",
      "Analysing Level: 3\n",
      "[[], [['almonds'], ['antioxydant_juice'], ['asparagus'], ['avocado'], ['bacon'], ['blueberries']], [['almonds', 'asparagus'], ['almonds', 'avocado'], ['almonds', 'barbecue_sauce'], ['asparagus', 'almonds'], ['asparagus', 'avocado'], ['asparagus', 'barbecue_sauce'], ['asparagus', 'black_tea'], ['asparagus', 'blueberries'], ['asparagus', 'body_spray'], ['avocado', 'almonds'], ['avocado', 'asparagus'], ['avocado', 'babies_food'], ['avocado', 'blueberries'], ['babies_food', 'avocado'], ['babies_food', 'black_tea'], ['babies_food', 'blueberries'], ['bacon', 'barbecue_sauce'], ['barbecue_sauce', 'almonds'], ['barbecue_sauce', 'asparagus'], ['barbecue_sauce', 'bacon'], ['barbecue_sauce', 'blueberries'], ['barbecue_sauce', 'body_spray'], ['black_tea', 'asparagus'], ['black_tea', 'babies_food'], ['black_tea', 'body_spray'], ['blueberries', 'asparagus'], ['blueberries', 'avocado'], ['blueberries', 'babies_food'], ['blueberries', 'barbecue_sauce'], ['body_spray', 'asparagus'], ['body_spray', 'barbecue_sauce'], ['body_spray', 'black_tea']], [['almonds', 'antioxydant_juice', 'babies_food'], ['almonds', 'asparagus', 'black_tea'], ['almonds', 'asparagus', 'body_spray'], ['almonds', 'avocado', 'black_tea'], ['almonds', 'avocado', 'body_spray'], ['almonds', 'babies_food', 'antioxydant_juice'], ['almonds', 'babies_food', 'bacon'], ['almonds', 'babies_food', 'black_tea'], ['almonds', 'bacon', 'babies_food'], ['almonds', 'bacon', 'black_tea'], ['almonds', 'bacon', 'blueberries'], ['almonds', 'black_tea', 'asparagus'], ['almonds', 'black_tea', 'avocado'], ['almonds', 'black_tea', 'babies_food'], ['almonds', 'black_tea', 'bacon'], ['almonds', 'black_tea', 'body_spray'], ['almonds', 'blueberries', 'bacon'], ['almonds', 'body_spray', 'asparagus'], ['almonds', 'body_spray', 'avocado'], ['almonds', 'body_spray', 'black_tea'], ['antioxydant_juice', 'almonds', 'babies_food'], ['antioxydant_juice', 'asparagus', 'barbecue_sauce'], ['antioxydant_juice', 'avocado', 'bacon'], ['antioxydant_juice', 'babies_food', 'almonds'], ['antioxydant_juice', 'babies_food', 'bacon'], ['antioxydant_juice', 'bacon', 'avocado'], ['antioxydant_juice', 'bacon', 'babies_food'], ['antioxydant_juice', 'barbecue_sauce', 'asparagus'], ['antioxydant_juice', 'barbecue_sauce', 'body_spray'], ['antioxydant_juice', 'black_tea', 'blueberries'], ['antioxydant_juice', 'blueberries', 'black_tea'], ['antioxydant_juice', 'body_spray', 'barbecue_sauce'], ['asparagus', 'almonds', 'black_tea'], ['asparagus', 'almonds', 'body_spray'], ['asparagus', 'antioxydant_juice', 'barbecue_sauce'], ['asparagus', 'avocado', 'barbecue_sauce'], ['asparagus', 'avocado', 'blueberries'], ['asparagus', 'babies_food', 'bacon'], ['asparagus', 'babies_food', 'blueberries'], ['asparagus', 'bacon', 'babies_food'], ['asparagus', 'barbecue_sauce', 'antioxydant_juice'], ['asparagus', 'barbecue_sauce', 'avocado'], ['asparagus', 'barbecue_sauce', 'black_tea'], ['asparagus', 'barbecue_sauce', 'blueberries'], ['asparagus', 'barbecue_sauce', 'body_spray'], ['asparagus', 'black_tea', 'almonds'], ['asparagus', 'black_tea', 'barbecue_sauce'], ['asparagus', 'blueberries', 'avocado'], ['asparagus', 'blueberries', 'babies_food'], ['asparagus', 'blueberries', 'barbecue_sauce'], ['asparagus', 'body_spray', 'almonds'], ['asparagus', 'body_spray', 'barbecue_sauce'], ['avocado', 'almonds', 'black_tea'], ['avocado', 'almonds', 'body_spray'], ['avocado', 'antioxydant_juice', 'bacon'], ['avocado', 'asparagus', 'barbecue_sauce'], ['avocado', 'asparagus', 'blueberries'], ['avocado', 'babies_food', 'bacon'], ['avocado', 'bacon', 'antioxydant_juice'], ['avocado', 'bacon', 'babies_food'], ['avocado', 'bacon', 'black_tea'], ['avocado', 'barbecue_sauce', 'asparagus'], ['avocado', 'black_tea', 'almonds'], ['avocado', 'black_tea', 'bacon'], ['avocado', 'black_tea', 'body_spray'], ['avocado', 'blueberries', 'asparagus'], ['avocado', 'body_spray', 'almonds'], ['avocado', 'body_spray', 'black_tea'], ['babies_food', 'almonds', 'antioxydant_juice'], ['babies_food', 'almonds', 'bacon'], ['babies_food', 'almonds', 'black_tea'], ['babies_food', 'antioxydant_juice', 'almonds'], ['babies_food', 'antioxydant_juice', 'bacon'], ['babies_food', 'asparagus', 'bacon'], ['babies_food', 'asparagus', 'blueberries'], ['babies_food', 'avocado', 'bacon'], ['babies_food', 'bacon', 'almonds'], ['babies_food', 'bacon', 'antioxydant_juice'], ['babies_food', 'bacon', 'asparagus'], ['babies_food', 'bacon', 'avocado'], ['babies_food', 'barbecue_sauce', 'blueberries'], ['babies_food', 'black_tea', 'almonds'], ['babies_food', 'blueberries', 'asparagus'], ['babies_food', 'blueberries', 'barbecue_sauce'], ['bacon', 'almonds', 'babies_food'], ['bacon', 'almonds', 'black_tea'], ['bacon', 'almonds', 'blueberries'], ['bacon', 'antioxydant_juice', 'avocado'], ['bacon', 'antioxydant_juice', 'babies_food'], ['bacon', 'asparagus', 'babies_food'], ['bacon', 'avocado', 'antioxydant_juice'], ['bacon', 'avocado', 'babies_food'], ['bacon', 'avocado', 'black_tea'], ['bacon', 'babies_food', 'almonds'], ['bacon', 'babies_food', 'antioxydant_juice'], ['bacon', 'babies_food', 'asparagus'], ['bacon', 'babies_food', 'avocado'], ['bacon', 'barbecue_sauce', 'black_tea'], ['bacon', 'barbecue_sauce', 'body_spray'], ['bacon', 'black_tea', 'almonds'], ['bacon', 'black_tea', 'avocado'], ['bacon', 'black_tea', 'barbecue_sauce'], ['bacon', 'black_tea', 'body_spray'], ['bacon', 'blueberries', 'almonds'], ['bacon', 'blueberries', 'body_spray'], ['bacon', 'body_spray', 'barbecue_sauce'], ['bacon', 'body_spray', 'black_tea'], ['bacon', 'body_spray', 'blueberries'], ['barbecue_sauce', 'antioxydant_juice', 'asparagus'], ['barbecue_sauce', 'antioxydant_juice', 'body_spray'], ['barbecue_sauce', 'asparagus', 'antioxydant_juice'], ['barbecue_sauce', 'asparagus', 'avocado'], ['barbecue_sauce', 'asparagus', 'black_tea'], ['barbecue_sauce', 'asparagus', 'blueberries'], ['barbecue_sauce', 'asparagus', 'body_spray'], ['barbecue_sauce', 'avocado', 'asparagus'], ['barbecue_sauce', 'babies_food', 'blueberries'], ['barbecue_sauce', 'bacon', 'black_tea'], ['barbecue_sauce', 'bacon', 'body_spray'], ['barbecue_sauce', 'black_tea', 'asparagus'], ['barbecue_sauce', 'black_tea', 'bacon'], ['barbecue_sauce', 'blueberries', 'asparagus'], ['barbecue_sauce', 'blueberries', 'babies_food'], ['barbecue_sauce', 'body_spray', 'antioxydant_juice'], ['barbecue_sauce', 'body_spray', 'asparagus'], ['barbecue_sauce', 'body_spray', 'bacon'], ['black_tea', 'almonds', 'asparagus'], ['black_tea', 'almonds', 'avocado'], ['black_tea', 'almonds', 'babies_food'], ['black_tea', 'almonds', 'bacon'], ['black_tea', 'almonds', 'body_spray'], ['black_tea', 'antioxydant_juice', 'blueberries'], ['black_tea', 'asparagus', 'almonds'], ['black_tea', 'asparagus', 'barbecue_sauce'], ['black_tea', 'avocado', 'almonds'], ['black_tea', 'avocado', 'bacon'], ['black_tea', 'avocado', 'body_spray'], ['black_tea', 'babies_food', 'almonds'], ['black_tea', 'bacon', 'almonds'], ['black_tea', 'bacon', 'avocado'], ['black_tea', 'bacon', 'barbecue_sauce'], ['black_tea', 'bacon', 'body_spray'], ['black_tea', 'barbecue_sauce', 'asparagus'], ['black_tea', 'barbecue_sauce', 'bacon'], ['black_tea', 'blueberries', 'antioxydant_juice'], ['black_tea', 'blueberries', 'body_spray'], ['black_tea', 'body_spray', 'almonds'], ['black_tea', 'body_spray', 'avocado'], ['black_tea', 'body_spray', 'bacon'], ['black_tea', 'body_spray', 'blueberries'], ['blueberries', 'almonds', 'bacon'], ['blueberries', 'antioxydant_juice', 'black_tea'], ['blueberries', 'asparagus', 'avocado'], ['blueberries', 'asparagus', 'babies_food'], ['blueberries', 'asparagus', 'barbecue_sauce'], ['blueberries', 'avocado', 'asparagus'], ['blueberries', 'babies_food', 'asparagus'], ['blueberries', 'babies_food', 'barbecue_sauce'], ['blueberries', 'bacon', 'almonds'], ['blueberries', 'bacon', 'body_spray'], ['blueberries', 'barbecue_sauce', 'asparagus'], ['blueberries', 'barbecue_sauce', 'babies_food'], ['blueberries', 'black_tea', 'antioxydant_juice'], ['blueberries', 'black_tea', 'body_spray'], ['blueberries', 'body_spray', 'bacon'], ['blueberries', 'body_spray', 'black_tea'], ['body_spray', 'almonds', 'asparagus'], ['body_spray', 'almonds', 'avocado'], ['body_spray', 'almonds', 'black_tea'], ['body_spray', 'antioxydant_juice', 'barbecue_sauce'], ['body_spray', 'asparagus', 'almonds'], ['body_spray', 'asparagus', 'barbecue_sauce'], ['body_spray', 'avocado', 'almonds'], ['body_spray', 'avocado', 'black_tea'], ['body_spray', 'bacon', 'barbecue_sauce'], ['body_spray', 'bacon', 'black_tea'], ['body_spray', 'bacon', 'blueberries'], ['body_spray', 'barbecue_sauce', 'antioxydant_juice'], ['body_spray', 'barbecue_sauce', 'asparagus'], ['body_spray', 'barbecue_sauce', 'bacon'], ['body_spray', 'black_tea', 'almonds'], ['body_spray', 'black_tea', 'avocado'], ['body_spray', 'black_tea', 'bacon'], ['body_spray', 'black_tea', 'blueberries'], ['body_spray', 'blueberries', 'bacon'], ['body_spray', 'blueberries', 'black_tea']]]\n"
     ]
    }
   ],
   "source": [
    "MASK_rules = MASK_Apriori(reduced_distorted_test_ds,p,min_sup,levels)\n",
    "print(MASK_rules)"
   ]
  },
  {
   "cell_type": "code",
   "execution_count": 51,
   "metadata": {},
   "outputs": [
    {
     "name": "stdout",
     "output_type": "stream",
     "text": [
      "0.015625 * 804\n",
      "-0.140625 * 187\n",
      "1.265625 * 9\n"
     ]
    },
    {
     "data": {
      "text/plain": [
       "np.float64(-0.00234375)"
      ]
     },
     "execution_count": 51,
     "metadata": {},
     "output_type": "execute_result"
    }
   ],
   "source": [
    "MASK_Support(reduced_distorted_test_ds,['antioxydant_juice', 'asparagus'],p)"
   ]
  }
 ],
 "metadata": {
  "kernelspec": {
   "display_name": "Python 3",
   "language": "python",
   "name": "python3"
  },
  "language_info": {
   "codemirror_mode": {
    "name": "ipython",
    "version": 3
   },
   "file_extension": ".py",
   "mimetype": "text/x-python",
   "name": "python",
   "nbconvert_exporter": "python",
   "pygments_lexer": "ipython3",
   "version": "3.11.9"
  }
 },
 "nbformat": 4,
 "nbformat_minor": 2
}
