{
 "cells": [
  {
   "cell_type": "markdown",
   "metadata": {},
   "source": [
    "# MASK-Maintaining Data Privacy in Association Rule Mining"
   ]
  },
  {
   "cell_type": "markdown",
   "metadata": {
    "collapsed": false,
    "pycharm": {
     "name": "#%% md\n"
    }
   },
   "source": [
    "[![Open In Colab](https://colab.research.google.com/assets/colab-badge.svg)](\n",
    "link)"
   ]
  },
  {
   "cell_type": "markdown",
   "metadata": {},
   "source": [
    "## Processing the data"
   ]
  },
  {
   "cell_type": "code",
   "execution_count": 58,
   "metadata": {},
   "outputs": [],
   "source": [
    "\n",
    "test_ds_path = \".\\..\\Datasets\\store_data.csv\"\n",
    "\n",
    "with open(test_ds_path, \"r\") as f:\n",
    "\n",
    "    lines = f.readlines()\n",
    "    inventory = list()\n",
    "    tuples = list()\n",
    "\n",
    "    for line in lines:\n",
    "        transaction = line.strip().split(\",\")\n",
    "        #print(transaction)\n",
    "        tuples.append(transaction)\n",
    "        for element in transaction:\n",
    "            if element.strip().replace(' ','_').replace('&','and') not in inventory:\n",
    "                inventory.append(element.strip().replace(' ','_').replace('&','and'))"
   ]
  },
  {
   "cell_type": "code",
   "execution_count": 59,
   "metadata": {},
   "outputs": [
    {
     "name": "stdout",
     "output_type": "stream",
     "text": [
      "120\n"
     ]
    }
   ],
   "source": [
    "print(len(inventory))"
   ]
  },
  {
   "cell_type": "code",
   "execution_count": 60,
   "metadata": {},
   "outputs": [
    {
     "name": "stdout",
     "output_type": "stream",
     "text": [
      "['shrimp', 'almonds', 'avocado', 'vegetables_mix', 'green_grapes', 'whole_weat_flour', 'yams', 'cottage_cheese', 'energy_drink', 'tomato_juice', 'low_fat_yogurt', 'green_tea', 'honey', 'salad', 'mineral_water', 'salmon', 'antioxydant_juice', 'frozen_smoothie', 'spinach', 'olive_oil', 'burgers', 'meatballs', 'eggs', 'chutney', 'turkey', 'milk', 'energy_bar', 'whole_wheat_rice', 'whole_wheat_pasta', 'french_fries', 'soup', 'light_cream', 'shallot', 'frozen_vegetables', 'spaghetti', 'pet_food', 'cookies', 'cooking_oil', 'champagne', 'chocolate', 'chicken', 'oil', 'fresh_tuna', 'tomatoes', 'black_tea', 'extra_dark_chocolate', 'protein_bar', 'red_wine', 'pasta', 'pepper', 'shampoo', 'rice', 'sparkling_water', 'ham', 'body_spray', 'pancakes', 'grated_cheese', 'white_wine', 'toothpaste', 'parmesan_cheese', 'fresh_bread', 'ground_beef', 'escalope', 'herb_and_pepper', 'tomato_sauce', 'magazines', 'strawberries', 'strong_cheese', 'pickles', 'cake', 'hot_dogs', 'brownies', 'cereals', 'clothes_accessories', 'bug_spray', 'muffins', 'light_mayo', 'gums', 'soda', 'cider', 'corn', 'yogurt_cake', 'mint', 'butter', 'asparagus', 'french_wine', 'salt', 'tea', 'barbecue_sauce', 'mayonnaise', 'zucchini', 'carrots', 'mushroom_cream_sauce', 'candy_bars', 'chili', 'mashed_potato', 'nonfat_milk', 'water_spray', 'chocolate_bread', 'mint_green_tea', 'eggplant', 'blueberries', 'bacon', 'fromage_blanc', 'gluten_free_bar', 'dessert_wine', 'flax_seed', 'hand_protein_bar', 'sandwich', 'babies_food', 'melons', 'cauliflower', 'green_beans', 'ketchup', 'bramble', 'burger_sauce', 'oatmeal', 'cream', 'napkins', '']\n",
      "['almonds', 'antioxydant_juice', 'asparagus', 'avocado', 'babies_food', 'bacon', 'barbecue_sauce', 'black_tea', 'blueberries', 'body_spray', 'bramble', 'brownies', 'bug_spray', 'burger_sauce', 'burgers', 'butter', 'cake', 'candy_bars', 'carrots', 'cauliflower', 'cereals', 'champagne', 'chicken', 'chili', 'chocolate', 'chocolate_bread', 'chutney', 'cider', 'clothes_accessories', 'cookies', 'cooking_oil', 'corn', 'cottage_cheese', 'cream', 'dessert_wine', 'eggplant', 'eggs', 'energy_bar', 'energy_drink', 'escalope', 'extra_dark_chocolate', 'flax_seed', 'french_fries', 'french_wine', 'fresh_bread', 'fresh_tuna', 'fromage_blanc', 'frozen_smoothie', 'frozen_vegetables', 'gluten_free_bar', 'grated_cheese', 'green_beans', 'green_grapes', 'green_tea', 'ground_beef', 'gums', 'ham', 'hand_protein_bar', 'herb_and_pepper', 'honey', 'hot_dogs', 'ketchup', 'light_cream', 'light_mayo', 'low_fat_yogurt', 'magazines', 'mashed_potato', 'mayonnaise', 'meatballs', 'melons', 'milk', 'mineral_water', 'mint', 'mint_green_tea', 'muffins', 'mushroom_cream_sauce', 'napkins', 'nonfat_milk', 'oatmeal', 'oil', 'olive_oil', 'pancakes', 'parmesan_cheese', 'pasta', 'pepper', 'pet_food', 'pickles', 'protein_bar', 'red_wine', 'rice', 'salad', 'salmon', 'salt', 'sandwich', 'shallot', 'shampoo', 'shrimp', 'soda', 'soup', 'spaghetti', 'sparkling_water', 'spinach', 'strawberries', 'strong_cheese', 'tea', 'tomato_juice', 'tomato_sauce', 'tomatoes', 'toothpaste', 'turkey', 'vegetables_mix', 'water_spray', 'white_wine', 'whole_weat_flour', 'whole_wheat_pasta', 'whole_wheat_rice', 'yams', 'yogurt_cake', 'zucchini']\n"
     ]
    }
   ],
   "source": [
    "\n",
    "print(inventory)\n",
    "inventory.pop()\n",
    "inventory.sort()\n",
    "print(inventory)"
   ]
  },
  {
   "cell_type": "code",
   "execution_count": 61,
   "metadata": {},
   "outputs": [
    {
     "name": "stdout",
     "output_type": "stream",
     "text": [
      "119\n"
     ]
    }
   ],
   "source": [
    "print(len(inventory))"
   ]
  },
  {
   "cell_type": "code",
   "execution_count": 62,
   "metadata": {},
   "outputs": [],
   "source": [
    "import pandas as pd\n",
    "import numpy as np\n",
    "import math\n",
    "import random\n",
    "from pandas import DataFrame\n"
   ]
  },
  {
   "cell_type": "code",
   "execution_count": 63,
   "metadata": {},
   "outputs": [],
   "source": [
    "test_dataset = pd.DataFrame(\n",
    "    [[1 if item in row else 0 for item in inventory] for row in tuples],\n",
    "    columns=inventory\n",
    ")"
   ]
  },
  {
   "cell_type": "code",
   "execution_count": 64,
   "metadata": {},
   "outputs": [
    {
     "data": {
      "text/html": [
       "<div>\n",
       "<style scoped>\n",
       "    .dataframe tbody tr th:only-of-type {\n",
       "        vertical-align: middle;\n",
       "    }\n",
       "\n",
       "    .dataframe tbody tr th {\n",
       "        vertical-align: top;\n",
       "    }\n",
       "\n",
       "    .dataframe thead th {\n",
       "        text-align: right;\n",
       "    }\n",
       "</style>\n",
       "<table border=\"1\" class=\"dataframe\">\n",
       "  <thead>\n",
       "    <tr style=\"text-align: right;\">\n",
       "      <th></th>\n",
       "      <th>almonds</th>\n",
       "      <th>antioxydant_juice</th>\n",
       "      <th>asparagus</th>\n",
       "      <th>avocado</th>\n",
       "      <th>babies_food</th>\n",
       "      <th>bacon</th>\n",
       "      <th>barbecue_sauce</th>\n",
       "      <th>black_tea</th>\n",
       "      <th>blueberries</th>\n",
       "      <th>body_spray</th>\n",
       "      <th>...</th>\n",
       "      <th>turkey</th>\n",
       "      <th>vegetables_mix</th>\n",
       "      <th>water_spray</th>\n",
       "      <th>white_wine</th>\n",
       "      <th>whole_weat_flour</th>\n",
       "      <th>whole_wheat_pasta</th>\n",
       "      <th>whole_wheat_rice</th>\n",
       "      <th>yams</th>\n",
       "      <th>yogurt_cake</th>\n",
       "      <th>zucchini</th>\n",
       "    </tr>\n",
       "  </thead>\n",
       "  <tbody>\n",
       "    <tr>\n",
       "      <th>0</th>\n",
       "      <td>1</td>\n",
       "      <td>0</td>\n",
       "      <td>0</td>\n",
       "      <td>1</td>\n",
       "      <td>0</td>\n",
       "      <td>0</td>\n",
       "      <td>0</td>\n",
       "      <td>0</td>\n",
       "      <td>0</td>\n",
       "      <td>0</td>\n",
       "      <td>...</td>\n",
       "      <td>0</td>\n",
       "      <td>0</td>\n",
       "      <td>0</td>\n",
       "      <td>0</td>\n",
       "      <td>0</td>\n",
       "      <td>0</td>\n",
       "      <td>0</td>\n",
       "      <td>1</td>\n",
       "      <td>0</td>\n",
       "      <td>0</td>\n",
       "    </tr>\n",
       "    <tr>\n",
       "      <th>1</th>\n",
       "      <td>0</td>\n",
       "      <td>0</td>\n",
       "      <td>0</td>\n",
       "      <td>0</td>\n",
       "      <td>0</td>\n",
       "      <td>0</td>\n",
       "      <td>0</td>\n",
       "      <td>0</td>\n",
       "      <td>0</td>\n",
       "      <td>0</td>\n",
       "      <td>...</td>\n",
       "      <td>0</td>\n",
       "      <td>0</td>\n",
       "      <td>0</td>\n",
       "      <td>0</td>\n",
       "      <td>0</td>\n",
       "      <td>0</td>\n",
       "      <td>0</td>\n",
       "      <td>0</td>\n",
       "      <td>0</td>\n",
       "      <td>0</td>\n",
       "    </tr>\n",
       "    <tr>\n",
       "      <th>2</th>\n",
       "      <td>0</td>\n",
       "      <td>0</td>\n",
       "      <td>0</td>\n",
       "      <td>0</td>\n",
       "      <td>0</td>\n",
       "      <td>0</td>\n",
       "      <td>0</td>\n",
       "      <td>0</td>\n",
       "      <td>0</td>\n",
       "      <td>0</td>\n",
       "      <td>...</td>\n",
       "      <td>0</td>\n",
       "      <td>0</td>\n",
       "      <td>0</td>\n",
       "      <td>0</td>\n",
       "      <td>0</td>\n",
       "      <td>0</td>\n",
       "      <td>0</td>\n",
       "      <td>0</td>\n",
       "      <td>0</td>\n",
       "      <td>0</td>\n",
       "    </tr>\n",
       "  </tbody>\n",
       "</table>\n",
       "<p>3 rows × 119 columns</p>\n",
       "</div>"
      ],
      "text/plain": [
       "   almonds  antioxydant_juice  asparagus  avocado  babies_food  bacon  \\\n",
       "0        1                  0          0        1            0      0   \n",
       "1        0                  0          0        0            0      0   \n",
       "2        0                  0          0        0            0      0   \n",
       "\n",
       "   barbecue_sauce  black_tea  blueberries  body_spray  ...  turkey  \\\n",
       "0               0          0            0           0  ...       0   \n",
       "1               0          0            0           0  ...       0   \n",
       "2               0          0            0           0  ...       0   \n",
       "\n",
       "   vegetables_mix  water_spray  white_wine  whole_weat_flour  \\\n",
       "0               0            0           0                 0   \n",
       "1               0            0           0                 0   \n",
       "2               0            0           0                 0   \n",
       "\n",
       "   whole_wheat_pasta  whole_wheat_rice  yams  yogurt_cake  zucchini  \n",
       "0                  0                 0     1            0         0  \n",
       "1                  0                 0     0            0         0  \n",
       "2                  0                 0     0            0         0  \n",
       "\n",
       "[3 rows x 119 columns]"
      ]
     },
     "execution_count": 64,
     "metadata": {},
     "output_type": "execute_result"
    }
   ],
   "source": [
    "test_dataset.head(3)"
   ]
  },
  {
   "cell_type": "code",
   "execution_count": 65,
   "metadata": {},
   "outputs": [
    {
     "data": {
      "text/plain": [
       "Index(['almonds', 'antioxydant_juice', 'asparagus', 'avocado', 'babies_food',\n",
       "       'bacon', 'barbecue_sauce', 'black_tea', 'blueberries', 'body_spray',\n",
       "       ...\n",
       "       'turkey', 'vegetables_mix', 'water_spray', 'white_wine',\n",
       "       'whole_weat_flour', 'whole_wheat_pasta', 'whole_wheat_rice', 'yams',\n",
       "       'yogurt_cake', 'zucchini'],\n",
       "      dtype='object', length=119)"
      ]
     },
     "execution_count": 65,
     "metadata": {},
     "output_type": "execute_result"
    }
   ],
   "source": [
    "test_dataset.columns"
   ]
  },
  {
   "cell_type": "code",
   "execution_count": 66,
   "metadata": {},
   "outputs": [
    {
     "data": {
      "text/plain": [
       "pandas.core.indexes.base.Index"
      ]
     },
     "execution_count": 66,
     "metadata": {},
     "output_type": "execute_result"
    }
   ],
   "source": [
    "type(test_dataset.columns)"
   ]
  },
  {
   "cell_type": "code",
   "execution_count": 67,
   "metadata": {},
   "outputs": [
    {
     "name": "stdout",
     "output_type": "stream",
     "text": [
      "Pandas(Index=0, almonds=1, antioxydant_juice=0, asparagus=0, avocado=1, babies_food=0, bacon=0, barbecue_sauce=0, black_tea=0, blueberries=0, body_spray=0, bramble=0, brownies=0, bug_spray=0, burger_sauce=0, burgers=0, butter=0, cake=0, candy_bars=0, carrots=0, cauliflower=0, cereals=0, champagne=0, chicken=0, chili=0, chocolate=0, chocolate_bread=0, chutney=0, cider=0, clothes_accessories=0, cookies=0, cooking_oil=0, corn=0, cottage_cheese=0, cream=0, dessert_wine=0, eggplant=0, eggs=0, energy_bar=0, energy_drink=0, escalope=0, extra_dark_chocolate=0, flax_seed=0, french_fries=0, french_wine=0, fresh_bread=0, fresh_tuna=0, fromage_blanc=0, frozen_smoothie=0, frozen_vegetables=0, gluten_free_bar=0, grated_cheese=0, green_beans=0, green_grapes=0, green_tea=0, ground_beef=0, gums=0, ham=0, hand_protein_bar=0, herb_and_pepper=0, honey=1, hot_dogs=0, ketchup=0, light_cream=0, light_mayo=0, low_fat_yogurt=0, magazines=0, mashed_potato=0, mayonnaise=0, meatballs=0, melons=0, milk=0, mineral_water=0, mint=0, mint_green_tea=0, muffins=0, mushroom_cream_sauce=0, napkins=0, nonfat_milk=0, oatmeal=0, oil=0, olive_oil=0, pancakes=0, parmesan_cheese=0, pasta=0, pepper=0, pet_food=0, pickles=0, protein_bar=0, red_wine=0, rice=0, salad=1, salmon=1, salt=0, sandwich=0, shallot=0, shampoo=0, shrimp=1, soda=0, soup=0, spaghetti=0, sparkling_water=0, spinach=1, strawberries=0, strong_cheese=0, tea=0, tomato_juice=0, tomato_sauce=0, tomatoes=0, toothpaste=0, turkey=0, vegetables_mix=0, water_spray=0, white_wine=0, whole_weat_flour=0, whole_wheat_pasta=0, whole_wheat_rice=0, yams=1, yogurt_cake=0, zucchini=0)\n",
      "1\n",
      "<class 'pandas.core.frame.Pandas'>\n"
     ]
    }
   ],
   "source": [
    "for tuple in test_dataset.itertuples():\n",
    "    print(tuple)\n",
    "    print(int( getattr(tuple, 'almonds')))\n",
    "    print(type(tuple))\n",
    "    break"
   ]
  },
  {
   "cell_type": "markdown",
   "metadata": {},
   "source": [
    "## Implementing utility functions and classes"
   ]
  },
  {
   "cell_type": "code",
   "execution_count": 68,
   "metadata": {},
   "outputs": [],
   "source": [
    "from numpy import float64\n",
    "class Rule:\n",
    "    def __init__(self,itemset: list | dict,support: float = 0, confidence: float = 0):\n",
    "        self.itemset = itemset\n",
    "        self.support = support\n",
    "        self.confidence = confidence\n",
    "\n",
    "    def __str__(self):\n",
    "        return f\"Rule('{self.itemset}', '{self.support}')\"\n",
    "    \n",
    "    def __repr__(self):\n",
    "        return f\"Rule('{self.itemset}', '{self.support}')\"\n",
    "    \n",
    "    def __eq__(self, other):\n",
    "        if isinstance(other, Rule):\n",
    "            return set(self.itemset) == set(other.itemset)\n",
    "        return False\n",
    "    \n",
    "    def __iter__(self):\n",
    "        return iter([self.itemset, self.support, self.confidence])\n",
    "    \n",
    "\n",
    "class AprioriRule(Rule):\n",
    "    def __init__(self,itemset: list | dict,support: float = 0):\n",
    "        super().__init__(itemset,support)\n",
    "\n",
    "class MASKRule(Rule):\n",
    "    def __init__(self,itemset: list | dict,support: float = 0):\n",
    "        super().__init__(itemset,support)\n",
    "        self.counters = np.zeros(len(itemset)+1)"
   ]
  },
  {
   "cell_type": "code",
   "execution_count": 69,
   "metadata": {},
   "outputs": [],
   "source": [
    "\n",
    "from pandas import DataFrame\n",
    "\n",
    "\n",
    "def support(T: DataFrame ,X_U_Y: list | dict):\n",
    "    '''\n",
    "    Parameters:\n",
    "    T (dataframe)\n",
    "    X_U_Y (list | dict) : name of the attributes considered (X U Y)\n",
    "    Return:\n",
    "    float: support of the attributes in the dataset\n",
    "    '''\n",
    "    for attribute in X_U_Y:\n",
    "        if attribute not in T.columns:\n",
    "             return ValueError\n",
    "    count = 0\n",
    "    for tuple in T.itertuples(False):\n",
    "        contained = True\n",
    "        for attribute in X_U_Y:\n",
    "            try: \n",
    "                if getattr(tuple,attribute) == 0:\n",
    "                    contained = False\n",
    "                    break\n",
    "            except AttributeError:\n",
    "                contained = False,\n",
    "                break\n",
    "\n",
    "        if contained:\n",
    "            count += 1\n",
    "    return count/len(T)\n",
    "    "
   ]
  },
  {
   "cell_type": "code",
   "execution_count": 70,
   "metadata": {},
   "outputs": [
    {
     "data": {
      "text/plain": [
       "0.0"
      ]
     },
     "execution_count": 70,
     "metadata": {},
     "output_type": "execute_result"
    }
   ],
   "source": [
    "support(test_dataset,['herb_and_pepper'])"
   ]
  },
  {
   "cell_type": "code",
   "execution_count": 71,
   "metadata": {},
   "outputs": [],
   "source": [
    "\n",
    "def confidence(T: DataFrame, X: list | dict, Y: list | dict):\n",
    "    '''\n",
    "    Parameters:\n",
    "    T (dataframe)\n",
    "    X ( list | dict): X part of X ==> Y rule\n",
    "    X (list | dict): Y part of X ==> Y rule\n",
    "    '''\n",
    "    if len(X)+len(Y) > len(T.columns):\n",
    "        return ValueError\n",
    "    for item in X:\n",
    "        if Y.__contains__(item):\n",
    "            return ValueError # XY = empty set\n",
    "    \n",
    "    countX=0\n",
    "    countY=0\n",
    "    for tuple in T.itertuples():\n",
    "        containedX = True\n",
    "        for attribute in X:\n",
    "            if getattr(tuple,attribute) == 0:\n",
    "                containedX = False\n",
    "                break\n",
    "        if containedX:\n",
    "            countX += 1\n",
    "            containedY=True\n",
    "            for attribute in Y:\n",
    "                if attribute == '':\n",
    "                    containedY = False\n",
    "                    break\n",
    "                if getattr(tuple,attribute) == 0:\n",
    "                    containedY = False\n",
    "                    break\n",
    "            if containedY:\n",
    "                countY += 1\n",
    "    return countY/countX    "
   ]
  },
  {
   "cell_type": "code",
   "execution_count": 72,
   "metadata": {},
   "outputs": [
    {
     "data": {
      "text/plain": [
       "0.08"
      ]
     },
     "execution_count": 72,
     "metadata": {},
     "output_type": "execute_result"
    }
   ],
   "source": [
    "confidence(test_dataset,['spaghetti','champagne'],['cookies'])\n",
    "#spaghetti,champagne,cookies"
   ]
  },
  {
   "cell_type": "code",
   "execution_count": 92,
   "metadata": {},
   "outputs": [],
   "source": [
    "def Apriori(items, dataset, min_sup, levels: int = None):\n",
    "    if levels is None:\n",
    "        levels = len(items)\n",
    "    '''\n",
    "    rules[0] = empty set\n",
    "    rules[1] = rules of length 1\n",
    "    rules[2] = rules of length 2\n",
    "\n",
    "\n",
    "    rules[len(items)] = items\n",
    "    ...\n",
    "    '''\n",
    "    rules = [\n",
    "        [],\n",
    "        [ AprioriRule([item]) for item in items ]\n",
    "    ]\n",
    "\n",
    "\n",
    "\n",
    "    # iterate over all the possible rules length from 1 to len(items)\n",
    "    for i in range(1, levels+1):\n",
    "        print(f\"Apriori Level: {i}\")\n",
    "        # remove all the rules in rules[i]\n",
    "        # that don't have a support of at least min_sup\n",
    "\n",
    "        #print(f\"RULES[{i}] BEFORE\", rules[i])\n",
    "        for j in range(len(rules[i])-1,-1,-1):\n",
    "            sup = support(dataset,rules[i][j].itemset)\n",
    "            if sup >= min_sup:\n",
    "                rules[i][j].support = sup\n",
    "            else:\n",
    "                rules[i].remove(rules[i][j])\n",
    "    \n",
    "        '''\n",
    "        print(f\"RULES[{i}] SUPPORT\", [\n",
    "            support(dataset, rule)\n",
    "            for rule in rules[i]\n",
    "        ]\n",
    "        )'''\n",
    "\n",
    "\n",
    "        #print(f\"RULES[{i}] AFTER\", rules[i])\n",
    "\n",
    "        if len(rules[i]) == 0:\n",
    "            break\n",
    "\n",
    "\n",
    "        # generate all the possibile \n",
    "        # rules with i+1 elements\n",
    "        rules.append([]) # create the element rules[i+1]\n",
    "\n",
    "        #print(\"RULE[i]\", rules[i])\n",
    "        #print(\"RULE[i+1]\", rules[i+1])\n",
    "        for rule in rules[i]:\n",
    "            for j in range(0,len(rules[1])):\n",
    "\n",
    "                # skip if item is already inside the rule\n",
    "                if rules[1][j].itemset[0] in rule.itemset:\n",
    "                    continue\n",
    "                \n",
    "                itemset = rule.itemset + rules[1][j].itemset\n",
    "                itemset.sort()\n",
    "\n",
    "                new_rule = AprioriRule(itemset)\n",
    "                if new_rule not in rules[i+1]:\n",
    "\n",
    "                    rules[i+1].append(new_rule)\n",
    "                # create a new rule composed of rule + [item]\n",
    "\n",
    "\n",
    "    return rules"
   ]
  },
  {
   "cell_type": "code",
   "execution_count": 74,
   "metadata": {},
   "outputs": [],
   "source": [
    "def hammingDistanceBitwise(a:int,b:int):\n",
    "    return (a^b).bit_count()"
   ]
  },
  {
   "cell_type": "code",
   "execution_count": 75,
   "metadata": {},
   "outputs": [
    {
     "data": {
      "text/plain": [
       "2"
      ]
     },
     "execution_count": 75,
     "metadata": {},
     "output_type": "execute_result"
    }
   ],
   "source": [
    "hammingDistanceBitwise(int(1),int(2))"
   ]
  },
  {
   "cell_type": "code",
   "execution_count": 76,
   "metadata": {},
   "outputs": [],
   "source": [
    "\n",
    "def computeM(size: int, p: float):\n",
    "    max_exp = int(math.log2(size))\n",
    "    M = np.diag([math.pow(p,max_exp) for i in range(size)])\n",
    "    for i in range(0,size):\n",
    "        for j in range(i+1,size):\n",
    "            difference = hammingDistanceBitwise(i,j)\n",
    "            M[i][j] = math.pow(1-p,difference)*math.pow(p,max_exp-difference)\n",
    "\n",
    "    for i in range(1,size):\n",
    "        for j in range(i,-1,-1):\n",
    "            M[i][j] = M[j][i]\n",
    "\n",
    "    return M"
   ]
  },
  {
   "cell_type": "code",
   "execution_count": 77,
   "metadata": {},
   "outputs": [
    {
     "name": "stdout",
     "output_type": "stream",
     "text": [
      "[[0.01 0.09 0.09 0.81]\n",
      " [0.09 0.01 0.81 0.09]\n",
      " [0.09 0.81 0.01 0.09]\n",
      " [0.81 0.09 0.09 0.01]]\n",
      "1.0\n"
     ]
    }
   ],
   "source": [
    "M_test = computeM(int(math.pow(2,2)),0.1)\n",
    "print(M_test)\n",
    "print(sum(M_test[0]))"
   ]
  },
  {
   "cell_type": "code",
   "execution_count": 78,
   "metadata": {},
   "outputs": [
    {
     "name": "stdout",
     "output_type": "stream",
     "text": [
      "[[ 1.265625 -0.140625 -0.140625  0.015625]\n",
      " [-0.140625  1.265625  0.015625 -0.140625]\n",
      " [-0.140625  0.015625  1.265625 -0.140625]\n",
      " [ 0.015625 -0.140625 -0.140625  1.265625]]\n",
      "1.0\n"
     ]
    }
   ],
   "source": [
    "from numpy.linalg import inv\n",
    "\n",
    "p = 0.9\n",
    "M_test = inv(computeM(2**2,p))\n",
    "print(M_test)\n",
    "print(sum(M_test[3]))"
   ]
  },
  {
   "cell_type": "code",
   "execution_count": 79,
   "metadata": {},
   "outputs": [],
   "source": [
    "def vectormatrixProdMod(linC_D,matrix):\n",
    "    size = matrix.shape[0]\n",
    "    row = matrix[size-1]\n",
    "    sum:float = 0.0\n",
    "    for j in range(len(linC_D)):\n",
    "        index = int(math.pow(2,j))-1\n",
    "        #print(str(row[index])+\" * \"+str(linC_D[j]))\n",
    "        sum += row[index]*linC_D[j]\n",
    "    return sum"
   ]
  },
  {
   "cell_type": "code",
   "execution_count": 80,
   "metadata": {},
   "outputs": [
    {
     "name": "stdout",
     "output_type": "stream",
     "text": [
      "[['almonds', 0.020397280362618318], ['antioxydant_juice', 0.0], ['asparagus', 0.004666044527396347], ['avocado', 0.03332888948140248], ['babies_food', 0.0], ['bacon', 0.008665511265164644], ['barbecue_sauce', 0.0], ['black_tea', 0.0], ['blueberries', 0.009198773496867084], ['body_spray', 0.0], ['bramble', 0.0018664178109585388], ['brownies', 0.03372883615517931], ['bug_spray', 0.0], ['burger_sauce', 0.0], ['burgers', 0.0871883748833489], ['butter', 0.030129316091187842], ['cake', 0.08105585921877083], ['candy_bars', 0.0], ['carrots', 0.01533128916144514], ['cauliflower', 0.004799360085321957], ['cereals', 0.025729902679642713], ['champagne', 0.04679376083188908], ['chicken', 0.05999200106652446], ['chili', 0.0061325156645780565], ['chocolate', 0.1638448206905746], ['chocolate_bread', 0.0], ['chutney', 0.0041327822956939075], ['cider', 0.010531929076123183], ['clothes_accessories', 0.0], ['cookies', 0.08038928142914278], ['cooking_oil', 0.0], ['corn', 0.004799360085321957], ['cottage_cheese', 0.0], ['cream', 0.0009332089054792694], ['dessert_wine', 0.0], ['eggplant', 0.013198240234635382], ['eggs', 0.17970937208372217], ['energy_bar', 0.0], ['energy_drink', 0.0], ['escalope', 0.0793227569657379], ['extra_dark_chocolate', 0.0], ['flax_seed', 0.0], ['french_fries', 0.0], ['french_wine', 0.0], ['fresh_bread', 0.0], ['fresh_tuna', 0.0], ['fromage_blanc', 0.0], ['frozen_smoothie', 0.0], ['frozen_vegetables', 0.0], ['gluten_free_bar', 0.0], ['grated_cheese', 0.0], ['green_beans', 0.0], ['green_grapes', 0.0], ['green_tea', 0.0], ['ground_beef', 0.0], ['gums', 0.013464871350486601], ['ham', 0.026529796027196375], ['hand_protein_bar', 0.0], ['herb_and_pepper', 0.0], ['honey', 0.047460338621517134], ['hot_dogs', 0.0], ['ketchup', 0.004399413411545127], ['light_cream', 0.0], ['light_mayo', 0.0], ['low_fat_yogurt', 0.0], ['magazines', 0.010931875749900012], ['mashed_potato', 0.0], ['mayonnaise', 0.0061325156645780565], ['meatballs', 0.020930542594320756], ['melons', 0.011998400213304892], ['milk', 0.12958272230369283], ['mineral_water', 0.0], ['mint', 0.0174643380882549], ['mint_green_tea', 0.0], ['muffins', 0.024130115984535395], ['mushroom_cream_sauce', 0.0], ['napkins', 0.0006665777896280496], ['nonfat_milk', 0.0], ['oatmeal', 0.004399413411545127], ['oil', 0.023063591521130515], ['olive_oil', 0.0], ['pancakes', 0.09505399280095987], ['parmesan_cheese', 0.0], ['pasta', 0.01573123583522197], ['pepper', 0.026529796027196375], ['pet_food', 0.0], ['pickles', 0.005999200106652446], ['protein_bar', 0.0], ['red_wine', 0.0], ['rice', 0.018797493667511], ['salad', 0.004932675643247567], ['salmon', 0.04252766297826956], ['salt', 0.009198773496867084], ['sandwich', 0.004532728969470737], ['shallot', 0.007732302359685375], ['shampoo', 0.004932675643247567], ['shrimp', 0.07145713904812692], ['soda', 0.006265831222503666], ['soup', 0.05052659645380616], ['spaghetti', 0.17411011865084655], ['sparkling_water', 0.0], ['spinach', 0.007065724570057326], ['strawberries', 0.021330489268097587], ['strong_cheese', 0.0], ['tea', 0.0038661511798426876], ['tomato_juice', 0.0], ['tomato_sauce', 0.0], ['tomatoes', 0.06839088121583789], ['toothpaste', 0.008132249033462205], ['turkey', 0.06252499666711105], ['vegetables_mix', 0.0], ['water_spray', 0.0], ['white_wine', 0.0], ['whole_weat_flour', 0.0], ['whole_wheat_pasta', 0.0], ['whole_wheat_rice', 0.0], ['yams', 0.011465137981602452], ['yogurt_cake', 0.0], ['zucchini', 0.009465404612718305]]\n",
      "0.017458736594224412\n"
     ]
    }
   ],
   "source": [
    "support_vector = [[item,support(test_dataset,[item])] for item in inventory]\n",
    "print(support_vector)\n",
    "mean_support = np.mean([sublist[1] for sublist in support_vector])\n",
    "print(mean_support)\n"
   ]
  },
  {
   "cell_type": "markdown",
   "metadata": {},
   "source": [
    "## Distortion"
   ]
  },
  {
   "cell_type": "code",
   "execution_count": 81,
   "metadata": {},
   "outputs": [],
   "source": [
    "\n",
    "\n",
    "def MASK_Distortion(dataset: DataFrame, p: float):\n",
    "    '''\n",
    "    MASK\n",
    "    \n",
    "    choose a probability p\n",
    "\n",
    "    2 event\n",
    "    P(x = true) -> 1-p % -> we add or remove an element in the transaction\n",
    "    P(x = false) -> p% -> the transaction remains the same\n",
    "    '''\n",
    "    distorted_dataset = dataset.copy(deep=True)\n",
    "    for i in range(0,len(distorted_dataset)):\n",
    "        for column in distorted_dataset.columns:\n",
    "            event = random.random()\n",
    "            if event > p:\n",
    "                distorted_dataset.loc[i, column] = int(not dataset.loc[i, column])\n",
    "\n",
    "    return distorted_dataset\n",
    "\n",
    "        \n",
    "\n"
   ]
  },
  {
   "cell_type": "code",
   "execution_count": 82,
   "metadata": {},
   "outputs": [],
   "source": [
    "p = 0.9\n",
    "distorted_test_dataset = MASK_Distortion(test_dataset,p)"
   ]
  },
  {
   "cell_type": "markdown",
   "metadata": {},
   "source": [
    "## Rule mining"
   ]
  },
  {
   "cell_type": "code",
   "execution_count": 83,
   "metadata": {},
   "outputs": [],
   "source": [
    "def MASK_Support(linC_D,db_cardinality,M_inv = None):\n",
    "    if M_inv is None:\n",
    "        M_inv = inv(\n",
    "            computeM(\n",
    "                size=int(math.pow(2,len(linC_D)-1)),\n",
    "                p=p\n",
    "            )\n",
    "        )\n",
    "\n",
    "    C_T_11 = vectormatrixProdMod(linC_D,M_inv)\n",
    "\n",
    "    return C_T_11/db_cardinality\n",
    "    \n",
    "    "
   ]
  },
  {
   "cell_type": "code",
   "execution_count": 84,
   "metadata": {},
   "outputs": [],
   "source": [
    "def MASK_Rule_Mining(dataset: DataFrame, p: float, min_sup: float,levels: int = None):\n",
    "    if levels is None:\n",
    "        levels = len(dataset.columns)\n",
    "    rules = [\n",
    "        [],\n",
    "        [MASKRule([item]) for item in dataset.columns]\n",
    "    ]\n",
    "    frequent_itemsets = [[]]\n",
    "    infrequent_itemsets = [[]]\n",
    "\n",
    "    for i in range(1,levels+1):\n",
    "        print(f\"Mask Rule Mining level: {i}\")\n",
    "\n",
    "        frequent_itemsets.append([])\n",
    "        infrequent_itemsets.append([])\n",
    "\n",
    "\n",
    "        for tuple in dataset.itertuples():\n",
    "\n",
    "            item_list = []\n",
    "            complement_list=[]\n",
    "\n",
    "            for item in dataset.columns:\n",
    "                if getattr(tuple,item) == 1 and item not in infrequent_itemsets[i-1]:\n",
    "                    item_list.append(item)\n",
    "            for item in frequent_itemsets[i-1]:\n",
    "                if item not in item_list:\n",
    "                    complement_list.append(item)\n",
    "\n",
    "           \n",
    "            for rule in rules[i]:\n",
    "                bit_counter = 0\n",
    "                for item in rule.itemset:\n",
    "                    if item in item_list:\n",
    "                        bit_counter += 1\n",
    "                \n",
    "                rule.counters[bit_counter]+=1\n",
    "            \n",
    "        \n",
    "        \n",
    "\n",
    "        for j in range(len(rules[i])-1,-1,-1):\n",
    "\n",
    "            size = int(math.pow(2,i))\n",
    "            M_inv = inv(\n",
    "                computeM(size,p)\n",
    "            )\n",
    "\n",
    "            sup = MASK_Support(rules[i][j].counters,len(dataset),M_inv)\n",
    "\n",
    "            if sup >= min_sup:\n",
    "                rules[i][j].support = sup\n",
    "                for item in rules[i][j].itemset:\n",
    "                    if item not in frequent_itemsets[i]:\n",
    "                        frequent_itemsets[i].append(item)\n",
    "\n",
    "            else:\n",
    "                rules[i].remove(rules[i][j])\n",
    "                for item in rule.itemset:\n",
    "                    if item not in infrequent_itemsets[i]:\n",
    "                        infrequent_itemsets[i].append(item)\n",
    "            \n",
    "        if len(rules[i]) == 0:\n",
    "            break\n",
    "\n",
    "        rules.append([])\n",
    "\n",
    "        for rule in rules[i]:\n",
    "            for r in rules[1]:\n",
    "                if r.itemset[0] not in rule.itemset:\n",
    "                    itemset =  rule.itemset + r.itemset\n",
    "                    itemset.sort()\n",
    "                    new_rule = MASKRule(itemset)\n",
    "                    if new_rule not in rules[i+1]:\n",
    "                        rules[i+1].append(new_rule)\n",
    "    \n",
    "    return rules"
   ]
  },
  {
   "cell_type": "markdown",
   "metadata": {},
   "source": [
    "## Reduced dataset test"
   ]
  },
  {
   "cell_type": "code",
   "execution_count": 85,
   "metadata": {},
   "outputs": [
    {
     "name": "stdout",
     "output_type": "stream",
     "text": [
      "['almonds', 'antioxydant_juice', 'asparagus', 'avocado', 'babies_food', 'bacon', 'barbecue_sauce', 'black_tea', 'blueberries', 'body_spray', 'bramble', 'brownies', 'bug_spray', 'burger_sauce', 'burgers', 'butter', 'cake', 'candy_bars', 'carrots', 'cauliflower', 'cereals', 'champagne', 'chicken', 'chili', 'chocolate', 'chocolate_bread', 'chutney', 'cider', 'clothes_accessories', 'cookies', 'cooking_oil', 'corn', 'cottage_cheese', 'cream', 'dessert_wine', 'eggplant', 'eggs', 'energy_bar', 'energy_drink', 'escalope', 'extra_dark_chocolate', 'flax_seed', 'french_fries', 'french_wine', 'fresh_bread', 'fresh_tuna', 'fromage_blanc', 'frozen_smoothie', 'frozen_vegetables', 'gluten_free_bar']\n"
     ]
    }
   ],
   "source": [
    "reduced_inventory = inventory[0:50]\n",
    "print(reduced_inventory)"
   ]
  },
  {
   "cell_type": "code",
   "execution_count": 86,
   "metadata": {},
   "outputs": [
    {
     "name": "stdout",
     "output_type": "stream",
     "text": [
      "      almonds  antioxydant_juice  asparagus  avocado  babies_food  bacon  \\\n",
      "0           1                  0          0        1            0      0   \n",
      "1           0                  0          0        0            0      0   \n",
      "2           0                  0          0        0            0      0   \n",
      "3           0                  0          0        1            0      0   \n",
      "4           0                  0          0        0            0      0   \n",
      "...       ...                ...        ...      ...          ...    ...   \n",
      "7496        0                  0          0        0            0      0   \n",
      "7497        0                  0          0        0            0      0   \n",
      "7498        0                  0          0        0            0      0   \n",
      "7499        0                  0          0        0            0      0   \n",
      "7500        0                  0          0        0            0      0   \n",
      "\n",
      "      barbecue_sauce  black_tea  blueberries  body_spray  ...  \\\n",
      "0                  0          0            0           0  ...   \n",
      "1                  0          0            0           0  ...   \n",
      "2                  0          0            0           0  ...   \n",
      "3                  0          0            0           0  ...   \n",
      "4                  0          0            0           0  ...   \n",
      "...              ...        ...          ...         ...  ...   \n",
      "7496               0          0            0           0  ...   \n",
      "7497               0          0            0           0  ...   \n",
      "7498               0          0            0           0  ...   \n",
      "7499               0          0            0           0  ...   \n",
      "7500               0          0            0           0  ...   \n",
      "\n",
      "      extra_dark_chocolate  flax_seed  french_fries  french_wine  fresh_bread  \\\n",
      "0                        0          0             0            0            0   \n",
      "1                        0          0             0            0            0   \n",
      "2                        0          0             0            0            0   \n",
      "3                        0          0             0            0            0   \n",
      "4                        0          0             0            0            0   \n",
      "...                    ...        ...           ...          ...          ...   \n",
      "7496                     0          0             0            0            0   \n",
      "7497                     0          0             0            0            0   \n",
      "7498                     0          0             0            0            0   \n",
      "7499                     0          0             0            0            0   \n",
      "7500                     0          0             0            0            0   \n",
      "\n",
      "      fresh_tuna  fromage_blanc  frozen_smoothie  frozen_vegetables  \\\n",
      "0              0              0                0                  0   \n",
      "1              0              0                0                  0   \n",
      "2              0              0                0                  0   \n",
      "3              0              0                0                  0   \n",
      "4              0              0                0                  0   \n",
      "...          ...            ...              ...                ...   \n",
      "7496           0              0                0                  0   \n",
      "7497           0              0                0                  0   \n",
      "7498           0              0                0                  0   \n",
      "7499           0              0                0                  0   \n",
      "7500           0              0                0                  0   \n",
      "\n",
      "      gluten_free_bar  \n",
      "0                   0  \n",
      "1                   0  \n",
      "2                   0  \n",
      "3                   0  \n",
      "4                   0  \n",
      "...               ...  \n",
      "7496                0  \n",
      "7497                0  \n",
      "7498                0  \n",
      "7499                0  \n",
      "7500                0  \n",
      "\n",
      "[7501 rows x 50 columns]\n"
     ]
    }
   ],
   "source": [
    "reduced_test_ds = test_dataset.iloc[:, 0:50]\n",
    "print(reduced_test_ds)"
   ]
  },
  {
   "cell_type": "code",
   "execution_count": 87,
   "metadata": {},
   "outputs": [
    {
     "name": "stdout",
     "output_type": "stream",
     "text": [
      "[['almonds', 0.020397280362618318], ['antioxydant_juice', 0.0], ['asparagus', 0.004666044527396347], ['avocado', 0.03332888948140248], ['babies_food', 0.0], ['bacon', 0.008665511265164644], ['barbecue_sauce', 0.0], ['black_tea', 0.0], ['blueberries', 0.009198773496867084], ['body_spray', 0.0], ['bramble', 0.0018664178109585388], ['brownies', 0.03372883615517931], ['bug_spray', 0.0], ['burger_sauce', 0.0], ['burgers', 0.0871883748833489], ['butter', 0.030129316091187842], ['cake', 0.08105585921877083], ['candy_bars', 0.0], ['carrots', 0.01533128916144514], ['cauliflower', 0.004799360085321957], ['cereals', 0.025729902679642713], ['champagne', 0.04679376083188908], ['chicken', 0.05999200106652446], ['chili', 0.0061325156645780565], ['chocolate', 0.1638448206905746], ['chocolate_bread', 0.0], ['chutney', 0.0041327822956939075], ['cider', 0.010531929076123183], ['clothes_accessories', 0.0], ['cookies', 0.08038928142914278], ['cooking_oil', 0.0], ['corn', 0.004799360085321957], ['cottage_cheese', 0.0], ['cream', 0.0009332089054792694], ['dessert_wine', 0.0], ['eggplant', 0.013198240234635382], ['eggs', 0.17970937208372217], ['energy_bar', 0.0], ['energy_drink', 0.0], ['escalope', 0.0793227569657379], ['extra_dark_chocolate', 0.0], ['flax_seed', 0.0], ['french_fries', 0.0], ['french_wine', 0.0], ['fresh_bread', 0.0], ['fresh_tuna', 0.0], ['fromage_blanc', 0.0], ['frozen_smoothie', 0.0], ['frozen_vegetables', 0.0], ['gluten_free_bar', 0.0]]\n",
      "0.020117317690974534\n"
     ]
    }
   ],
   "source": [
    "support_vector_reduced = [[item,support(reduced_test_ds,[item])] for item in reduced_inventory]\n",
    "print(support_vector_reduced)\n",
    "mean_reduced_support = np.mean([sublist[1] for sublist in support_vector_reduced])\n",
    "print(mean_reduced_support)"
   ]
  },
  {
   "cell_type": "code",
   "execution_count": 88,
   "metadata": {},
   "outputs": [],
   "source": [
    "p = 0.9\n",
    "reduced_distorted_test_ds = MASK_Distortion(reduced_test_ds,p)"
   ]
  },
  {
   "cell_type": "code",
   "execution_count": 93,
   "metadata": {},
   "outputs": [
    {
     "name": "stdout",
     "output_type": "stream",
     "text": [
      "Apriori Level: 1\n",
      "Apriori Level: 2\n",
      "Apriori Level: 3\n",
      "Apriori Level: 4\n"
     ]
    }
   ],
   "source": [
    "min_sup = 0.005\n",
    "rules = Apriori(reduced_inventory,reduced_test_ds,min_sup)\n"
   ]
  },
  {
   "cell_type": "code",
   "execution_count": 45,
   "metadata": {},
   "outputs": [
    {
     "name": "stdout",
     "output_type": "stream",
     "text": [
      "[[], [Rule('['almonds']', '0.020397280362618318'), Rule('['avocado']', '0.03332888948140248'), Rule('['bacon']', '0.008665511265164644'), Rule('['blueberries']', '0.009198773496867084'), Rule('['brownies']', '0.03372883615517931'), Rule('['burgers']', '0.0871883748833489'), Rule('['butter']', '0.030129316091187842'), Rule('['cake']', '0.08105585921877083'), Rule('['carrots']', '0.01533128916144514'), Rule('['cereals']', '0.025729902679642713'), Rule('['champagne']', '0.04679376083188908'), Rule('['chicken']', '0.05999200106652446'), Rule('['chili']', '0.0061325156645780565'), Rule('['chocolate']', '0.1638448206905746'), Rule('['cider']', '0.010531929076123183'), Rule('['cookies']', '0.08038928142914278'), Rule('['eggplant']', '0.013198240234635382'), Rule('['eggs']', '0.17970937208372217'), Rule('['escalope']', '0.0793227569657379')], [Rule('['almonds', 'burgers']', '0.005199306759098787'), Rule('['almonds', 'chocolate']', '0.005999200106652446'), Rule('['almonds', 'eggs']', '0.006532462338354886'), Rule('['avocado', 'chocolate']', '0.007065724570057326'), Rule('['avocado', 'eggs']', '0.005599253432875617'), Rule('['brownies', 'cake']', '0.005465937874950006'), Rule('['brownies', 'eggs']', '0.007332355685908546'), Rule('['burgers', 'almonds']', '0.005199306759098787'), Rule('['burgers', 'cake']', '0.011465137981602452'), Rule('['burgers', 'chicken']', '0.006265831222503666'), Rule('['burgers', 'chocolate']', '0.017064391414478068'), Rule('['burgers', 'cookies']', '0.005599253432875617'), Rule('['burgers', 'eggs']', '0.02879616051193174'), Rule('['burgers', 'escalope']', '0.006932409012131715'), Rule('['butter', 'chocolate']', '0.008265564591387815'), Rule('['butter', 'eggs']', '0.0061325156645780565'), Rule('['cake', 'brownies']', '0.005465937874950006'), Rule('['cake', 'burgers']', '0.011465137981602452'), Rule('['cake', 'chicken']', '0.006532462338354886'), Rule('['cake', 'chocolate']', '0.013598186908412212'), Rule('['cake', 'eggs']', '0.019064124783362217'), Rule('['cereals', 'chocolate']', '0.005599253432875617'), Rule('['champagne', 'chocolate']', '0.011598453539528063'), Rule('['champagne', 'eggs']', '0.006665777896280496'), Rule('['chicken', 'burgers']', '0.006265831222503666'), Rule('['chicken', 'cake']', '0.006532462338354886'), Rule('['chicken', 'chocolate']', '0.014664711371817091'), Rule('['chicken', 'eggs']', '0.01439808025596587'), Rule('['chocolate', 'almonds']', '0.005999200106652446'), Rule('['chocolate', 'avocado']', '0.007065724570057326'), Rule('['chocolate', 'burgers']', '0.017064391414478068'), Rule('['chocolate', 'butter']', '0.008265564591387815'), Rule('['chocolate', 'cake']', '0.013598186908412212'), Rule('['chocolate', 'cereals']', '0.005599253432875617'), Rule('['chocolate', 'champagne']', '0.011598453539528063'), Rule('['chocolate', 'chicken']', '0.014664711371817091'), Rule('['chocolate', 'cookies']', '0.010398613518197574'), Rule('['chocolate', 'eggs']', '0.03319557392347687'), Rule('['chocolate', 'escalope']', '0.01759765364618051'), Rule('['cookies', 'burgers']', '0.005599253432875617'), Rule('['cookies', 'chocolate']', '0.010398613518197574'), Rule('['cookies', 'eggs']', '0.010531929076123183'), Rule('['eggs', 'almonds']', '0.006532462338354886'), Rule('['eggs', 'avocado']', '0.005599253432875617'), Rule('['eggs', 'brownies']', '0.007332355685908546'), Rule('['eggs', 'burgers']', '0.02879616051193174'), Rule('['eggs', 'butter']', '0.0061325156645780565'), Rule('['eggs', 'cake']', '0.019064124783362217'), Rule('['eggs', 'champagne']', '0.006665777896280496'), Rule('['eggs', 'chicken']', '0.01439808025596587'), Rule('['eggs', 'chocolate']', '0.03319557392347687'), Rule('['eggs', 'cookies']', '0.010531929076123183'), Rule('['eggs', 'escalope']', '0.011198506865751233'), Rule('['escalope', 'burgers']', '0.006932409012131715'), Rule('['escalope', 'chocolate']', '0.01759765364618051'), Rule('['escalope', 'eggs']', '0.011198506865751233')], [Rule('['burgers', 'chocolate', 'eggs']', '0.005465937874950006'), Rule('['burgers', 'eggs', 'chocolate']', '0.005465937874950006'), Rule('['chocolate', 'burgers', 'eggs']', '0.005465937874950006'), Rule('['chocolate', 'eggs', 'burgers']', '0.005465937874950006'), Rule('['eggs', 'burgers', 'chocolate']', '0.005465937874950006'), Rule('['eggs', 'chocolate', 'burgers']', '0.005465937874950006')], []]\n"
     ]
    }
   ],
   "source": [
    "print(rules)"
   ]
  },
  {
   "cell_type": "code",
   "execution_count": 90,
   "metadata": {},
   "outputs": [
    {
     "name": "stdout",
     "output_type": "stream",
     "text": [
      "Mask Rule Mining level: 1\n",
      "Mask Rule Mining level: 2\n",
      "Mask Rule Mining level: 3\n",
      "Mask Rule Mining level: 4\n"
     ]
    }
   ],
   "source": [
    "MASK_rules = MASK_Rule_Mining(reduced_distorted_test_ds,p,min_sup)"
   ]
  },
  {
   "cell_type": "code",
   "execution_count": 50,
   "metadata": {},
   "outputs": [
    {
     "name": "stdout",
     "output_type": "stream",
     "text": [
      "Mask Rule Mining level: 1\n",
      "Mask Rule Mining level: 2\n",
      "Mask Rule Mining level: 3\n",
      "Mask Rule Mining level: 4\n"
     ]
    }
   ],
   "source": [
    "MASK_rules = MASK_Rule_Mining(reduced_distorted_test_ds,p,min_sup)"
   ]
  },
  {
   "cell_type": "code",
   "execution_count": null,
   "metadata": {},
   "outputs": [],
   "source": [
    "print(MASK_rules)\n",
    "#print(MASK_rules_2)"
   ]
  },
  {
   "cell_type": "markdown",
   "metadata": {},
   "source": [
    "## Full dataset test"
   ]
  },
  {
   "cell_type": "code",
   "execution_count": null,
   "metadata": {},
   "outputs": [],
   "source": [
    "print(mean_support)\n",
    "\n"
   ]
  },
  {
   "cell_type": "code",
   "execution_count": null,
   "metadata": {},
   "outputs": [],
   "source": [
    "print(inventory)"
   ]
  },
  {
   "cell_type": "code",
   "execution_count": 44,
   "metadata": {},
   "outputs": [],
   "source": [
    "def mean_support(inventory, dataset):\n",
    "    support_vector = []\n",
    "    for item in inventory:\n",
    "        support_vector.append(support(dataset,[item]))\n",
    "\n",
    "    return np.mean(support_vector)"
   ]
  },
  {
   "cell_type": "code",
   "execution_count": null,
   "metadata": {},
   "outputs": [],
   "source": [
    "mean_sup = mean_support(test_dataset.columns,test_dataset)\n",
    "print(mean_sup)"
   ]
  },
  {
   "cell_type": "code",
   "execution_count": 56,
   "metadata": {},
   "outputs": [],
   "source": [
    "'''p = 0.9\n",
    "distorted_test_dataset = MASK_Distortion(test_dataset,p)'''"
   ]
  },
  {
   "cell_type": "code",
   "execution_count": null,
   "metadata": {},
   "outputs": [],
   "source": [
    "'''min_sup = 0.25\n",
    "rules = Apriori(inventory,test_dataset,min_sup)'''"
   ]
  },
  {
   "cell_type": "code",
   "execution_count": null,
   "metadata": {},
   "outputs": [],
   "source": [
    "#MASK_rules = MASK_Rule_Mining(distorted_test_dataset,p,min_sup)"
   ]
  },
  {
   "cell_type": "markdown",
   "metadata": {},
   "source": [
    "## Evaluating performance of the algorithm\n",
    "### Metrics\n",
    "* Support Error:\n",
    "    $\\rho = \\frac{1}{|f|}\\sum_{f}^{}\\frac{|recSup_f - actSup_f|}{actSup_f}*100$\n",
    "* Identity error:\n",
    "    * $\\sigma^+$ = percentage of false positive->$\\sigma^+ = \\frac{|R-F|}{|F|}*100$ \n",
    "    * $\\sigma^-$ = percentage of false negative->$\\sigma^- = \\frac{|F-R|}{|F|}*100$\n",
    "\n",
    "                \n"
   ]
  },
  {
   "cell_type": "code",
   "execution_count": 94,
   "metadata": {},
   "outputs": [],
   "source": [
    "def support_error(AprioriRuleslevel,MASKRuleslevel):\n",
    "    \n",
    "    sum = 0\n",
    "    cnt = 0\n",
    "\n",
    "    for apriorirule in AprioriRuleslevel:\n",
    "        if apriorirule is not None and apriorirule in MASKRuleslevel:\n",
    "            cnt += 1\n",
    "            index = MASKRuleslevel.index(apriorirule)\n",
    "            \n",
    "            rec_sup = MASKRuleslevel[index].support\n",
    "            act_sup = apriorirule.support\n",
    "            \n",
    "            sum += abs(rec_sup-act_sup)/act_sup\n",
    "    if cnt != 0:\n",
    "        return (sum/cnt)*100\n",
    "    else:\n",
    "        return 0\n",
    "    \n"
   ]
  },
  {
   "cell_type": "code",
   "execution_count": 95,
   "metadata": {},
   "outputs": [],
   "source": [
    "def identity_error(AprioriRulesLevel,MASKRulesLevel):\n",
    "\n",
    "    false_positive_cnt = 0\n",
    "    false_negative_cnt = 0\n",
    "\n",
    "    for rule in AprioriRulesLevel:\n",
    "        if rule not in MASKRulesLevel:\n",
    "            false_positive_cnt += 1\n",
    "    \n",
    "    for rule in MASKRulesLevel:\n",
    "        if rule not in AprioriRulesLevel:\n",
    "            false_negative_cnt += 1\n",
    "    \n",
    "    F = len(AprioriRulesLevel)\n",
    "\n",
    "    if F != 0:\n",
    "        false_positive = false_positive_cnt/F\n",
    "        false_negative = false_negative_cnt/F\n",
    "        return false_positive, false_negative\n",
    "    else: return 0,0\n",
    "\n",
    "    "
   ]
  },
  {
   "cell_type": "code",
   "execution_count": 96,
   "metadata": {},
   "outputs": [
    {
     "name": "stdout",
     "output_type": "stream",
     "text": [
      "Level: 1,|F| = 19, Support error: 10.215038271311592, Identity error: (0.05263157894736842, 0.47368421052631576)\n",
      "Level: 2,|F| = 28, Support error: 15.03025528164144, Identity error: (0.17857142857142858, 0.39285714285714285)\n",
      "Level: 3,|F| = 1, Support error: 17.61147103658544, Identity error: (0.0, 2.0)\n",
      "Level: 4,|F| = 0, Support error: 0, Identity error: (0, 0)\n"
     ]
    }
   ],
   "source": [
    "for i in range(1,len(rules)):\n",
    "    print(f\"Level: {i},|F| = {len(rules[i])}, Support error: {support_error(rules[i],MASK_rules[i])}, Identity error: {identity_error(rules[i],MASK_rules[i])}\")"
   ]
  },
  {
   "cell_type": "code",
   "execution_count": 55,
   "metadata": {},
   "outputs": [
    {
     "data": {
      "text/plain": [
       "'for i in range(1,len(rules)):\\n    print(support_error(rules[i],MASK_rules_2[i]))'"
      ]
     },
     "execution_count": 55,
     "metadata": {},
     "output_type": "execute_result"
    }
   ],
   "source": [
    "'''for i in range(1,len(rules)):\n",
    "    print(support_error(rules[i],MASK_rules_2[i]))'''"
   ]
  },
  {
   "cell_type": "code",
   "execution_count": 56,
   "metadata": {},
   "outputs": [
    {
     "ename": "NameError",
     "evalue": "name 'MASK_rules_1' is not defined",
     "output_type": "error",
     "traceback": [
      "\u001b[1;31m---------------------------------------------------------------------------\u001b[0m",
      "\u001b[1;31mNameError\u001b[0m                                 Traceback (most recent call last)",
      "Cell \u001b[1;32mIn[56], line 2\u001b[0m\n\u001b[0;32m      1\u001b[0m \u001b[38;5;28;01mfor\u001b[39;00m i \u001b[38;5;129;01min\u001b[39;00m \u001b[38;5;28mrange\u001b[39m(\u001b[38;5;241m1\u001b[39m,\u001b[38;5;28mlen\u001b[39m(rules)):\n\u001b[1;32m----> 2\u001b[0m     \u001b[38;5;28mprint\u001b[39m(identity_error(rules[i],\u001b[43mMASK_rules_1\u001b[49m[i]))\n",
      "\u001b[1;31mNameError\u001b[0m: name 'MASK_rules_1' is not defined"
     ]
    }
   ],
   "source": [
    "for i in range(1,len(rules)):\n",
    "    print(identity_error(rules[i],MASK_rules_1[i]))"
   ]
  },
  {
   "cell_type": "code",
   "execution_count": null,
   "metadata": {},
   "outputs": [],
   "source": [
    "'''for i in range(1,len(rules)):\n",
    "    print(identity_error(rules[i],MASK_rules_2[i]))'''"
   ]
  },
  {
   "cell_type": "markdown",
   "metadata": {},
   "source": [
    "## Evaluating MASK's privacy\n",
    "### Metrics:\n",
    "* Reconstruction Probability: $R(p) = aR_1(p) + (1-a)R_0(p)$\n",
    "    * $R_1(p) \\simeq \\frac{s_0 * p^2}{s_0*p+(1-s_0)*(1-p)} + \\frac{s_0 * (1-p)^2}{s_0*(1-p)+(1-s_0)*p}$\n",
    "    * $R_0(p) \\simeq \\frac{(1-s_0) * p^2}{(1-s_0)*p+s_0*(1-p)} + \\frac{(1-s_0) * (1-p)^2}{s_0*p+(1-s_0)*(1-p)}$\n",
    "    * $s_0 = $ average support for an item in the database\n",
    "\n",
    "* Privacy Measure: $P(p) = (1-R(p))*100$"
   ]
  },
  {
   "cell_type": "code",
   "execution_count": 41,
   "metadata": {},
   "outputs": [],
   "source": [
    "def R_1(s_0,p):\n",
    "    return ((s_0 * math.pow(p,2))/((s_0*p)+(1-s_0)*(1-p)))+((s_0 * math.pow(1-p,2))/((s_0*(1-p))+(1-s_0)*p))\n",
    "\n",
    "def R_0(s_0,p):\n",
    "    return (((1-s_0) * math.pow(p,2))/(((1-s_0)*p)+s_0*(1-p)))+(((1-s_0) * math.pow(1-p,2))/((s_0*p)+(1-s_0)*(1-p)))\n",
    "\n",
    "def R(s_0,p,a):\n",
    "    return a*R_1(s_0,p)+(1-a)*R_0(s_0,p)\n",
    "\n",
    "def P(s_0,p,a):\n",
    "    return (1-R(s_0,p,a))*100\n",
    "\n",
    "def mean_support(inventory, dataset):\n",
    "    support_vector = []\n",
    "    for item in inventory:\n",
    "        support_vector.append(support(dataset,item))\n",
    "    return np.mean(support_vector)"
   ]
  },
  {
   "cell_type": "code",
   "execution_count": null,
   "metadata": {},
   "outputs": [],
   "source": [
    "P(mean_support,p,0.9)"
   ]
  }
 ],
 "metadata": {
  "kernelspec": {
   "display_name": "Python 3",
   "language": "python",
   "name": "python3"
  },
  "language_info": {
   "codemirror_mode": {
    "name": "ipython",
    "version": 3
   },
   "file_extension": ".py",
   "mimetype": "text/x-python",
   "name": "python",
   "nbconvert_exporter": "python",
   "pygments_lexer": "ipython3",
   "version": "3.11.9"
  }
 },
 "nbformat": 4,
 "nbformat_minor": 2
}
