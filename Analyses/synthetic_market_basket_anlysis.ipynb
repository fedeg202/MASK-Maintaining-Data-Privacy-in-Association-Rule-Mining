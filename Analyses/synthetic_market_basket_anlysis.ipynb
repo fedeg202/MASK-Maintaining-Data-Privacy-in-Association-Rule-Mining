{
 "cells": [
  {
   "cell_type": "markdown",
   "metadata": {},
   "source": [
    "# MASK on Synthetic data"
   ]
  },
  {
   "cell_type": "markdown",
   "metadata": {},
   "source": [
    "[![Open In Colab](https://colab.research.google.com/assets/colab-badge.svg)](https://colab.research.google.com/github/fedeg202/MASK-Maintaining-Data-Privacy-in-Association-Rule-Mining/blob/main/Analyses/synthetic_market_basket_anlysis.ipynb)"
   ]
  },
  {
   "cell_type": "code",
   "execution_count": null,
   "metadata": {},
   "outputs": [],
   "source": [
    "try:\n",
    "  import mask\n",
    "except ImportError:\n",
    "  %pip install git+https://github.com/fedeg202/MASK.git"
   ]
  },
  {
   "cell_type": "markdown",
   "metadata": {},
   "source": [
    "## Preprocessing data"
   ]
  },
  {
   "cell_type": "code",
   "execution_count": null,
   "metadata": {},
   "outputs": [],
   "source": [
    "\n",
    "test_ds_path = \".\\..\\Datasets\\synthetic_market_basket.csv\"\n",
    "\n",
    "with open(test_ds_path, \"r\") as f:\n",
    "\n",
    "    lines = f.readlines()\n",
    "    inventory = list()\n",
    "    tuples = list()\n",
    "\n",
    "    for line in lines:\n",
    "        transaction = line.strip().split(\",\")\n",
    "        #print(transaction)\n",
    "        tuples.append(transaction)\n",
    "        for element in transaction:\n",
    "            if element.strip().replace(' ','_').replace('&','and').replace('-','_') not in inventory:\n",
    "                inventory.append(element.strip().replace(' ','_').replace('&','and').replace('-','_'))"
   ]
  },
  {
   "cell_type": "code",
   "execution_count": null,
   "metadata": {},
   "outputs": [],
   "source": [
    "import mask"
   ]
  },
  {
   "cell_type": "code",
   "execution_count": null,
   "metadata": {},
   "outputs": [],
   "source": [
    "print(inventory)\n",
    "inventory.sort()\n",
    "print(inventory)\n",
    "len(inventory)"
   ]
  },
  {
   "cell_type": "code",
   "execution_count": null,
   "metadata": {},
   "outputs": [],
   "source": [
    "import pandas as pd\n",
    "\n",
    "synthetic_ds = pd.DataFrame(\n",
    "    [[1 if item in row else 0 for item in inventory] for row in tuples],\n",
    "    columns=inventory\n",
    ")"
   ]
  },
  {
   "cell_type": "code",
   "execution_count": null,
   "metadata": {},
   "outputs": [],
   "source": [
    "from mask.functions import MASK_frequent_itemsets,MASK_Distortion\n",
    "from mask.eval import support_error,identity_error,P\n",
    "from mask.utility.utility_fun import mean_support,Apriori"
   ]
  },
  {
   "cell_type": "code",
   "execution_count": null,
   "metadata": {},
   "outputs": [],
   "source": [
    "mean_sup = mean_support(inventory,synthetic_ds)\n",
    "print(mean_sup)"
   ]
  },
  {
   "cell_type": "markdown",
   "metadata": {},
   "source": [
    "## Full test ds"
   ]
  },
  {
   "cell_type": "code",
   "execution_count": null,
   "metadata": {},
   "outputs": [],
   "source": [
    "p = 0.9"
   ]
  },
  {
   "cell_type": "code",
   "execution_count": null,
   "metadata": {},
   "outputs": [],
   "source": [
    "distorted_ds = MASK_Distortion(synthetic_ds,p)"
   ]
  },
  {
   "cell_type": "code",
   "execution_count": null,
   "metadata": {},
   "outputs": [],
   "source": [
    "min_sup = 0.0020"
   ]
  },
  {
   "cell_type": "code",
   "execution_count": null,
   "metadata": {},
   "outputs": [],
   "source": [
    "frequent_itemsets = Apriori(synthetic_ds,min_sup)"
   ]
  },
  {
   "cell_type": "code",
   "execution_count": null,
   "metadata": {},
   "outputs": [],
   "source": [
    "#m_min_sup = min_sup - 0.25*min_sup\n",
    "mask_frequent_intemset = MASK_frequent_itemsets(distorted_ds,p,min_sup)"
   ]
  },
  {
   "cell_type": "code",
   "execution_count": null,
   "metadata": {},
   "outputs": [],
   "source": [
    "\n",
    "for i in range(1,len(frequent_itemsets)):\n",
    "    print(f\"Level: {i},|F| = {len(frequent_itemsets[i])}, Support error: {support_error(frequent_itemsets[i],mask_frequent_intemset[i])}, Identity error: {identity_error(frequent_itemsets[i],mask_frequent_intemset[i])}\")\n"
   ]
  },
  {
   "cell_type": "code",
   "execution_count": null,
   "metadata": {},
   "outputs": [],
   "source": [
    "print(f\"Privacy level:{P(mean_sup,p,0.9)}\")"
   ]
  },
  {
   "cell_type": "markdown",
   "metadata": {},
   "source": [
    "#### Notify myself when the script ends"
   ]
  },
  {
   "cell_type": "code",
   "execution_count": null,
   "metadata": {},
   "outputs": [],
   "source": [
    "import requests\n",
    "\n",
    "def notifyMe(url,message, title = \"\"):\n",
    "  data = {\"message\": message,\n",
    "          \"title\":title}\n",
    "\n",
    "\n",
    "  response = requests.post(url, json=data)\n",
    "\n",
    "  if response.status_code == 200 : \n",
    "      print(\"Success!\")\n",
    "  else :\n",
    "      print(\"Error when notifying\")"
   ]
  },
  {
   "cell_type": "code",
   "execution_count": null,
   "metadata": {},
   "outputs": [],
   "source": [
    "\n",
    "import json\n",
    "\n",
    "config_path = \"./../../config.json\"\n",
    "\n",
    "with open(config_path, \"r\", encoding=\"utf-8\") as file:\n",
    "  config = json.load(file)  \n",
    "\n",
    "url = config[\"webhook_url\"]\n",
    "\n",
    "\n",
    "notifyMe(url,\"synthetic_market_basket_anlysis.ipynb has finished\",\"Notebook execution ended\")\n"
   ]
  }
 ],
 "metadata": {
  "kernelspec": {
   "display_name": "Python 3",
   "language": "python",
   "name": "python3"
  },
  "language_info": {
   "codemirror_mode": {
    "name": "ipython",
    "version": 3
   },
   "file_extension": ".py",
   "mimetype": "text/x-python",
   "name": "python",
   "nbconvert_exporter": "python",
   "pygments_lexer": "ipython3",
   "version": "3.11.9"
  }
 },
 "nbformat": 4,
 "nbformat_minor": 2
}
