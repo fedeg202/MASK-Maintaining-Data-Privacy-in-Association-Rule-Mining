{
 "cells": [
  {
   "cell_type": "code",
   "execution_count": 430,
   "metadata": {},
   "outputs": [],
   "source": [
    "import mask"
   ]
  },
  {
   "cell_type": "code",
   "execution_count": 431,
   "metadata": {},
   "outputs": [],
   "source": [
    "from mask.functions import MASK_frequent_itemsets\n",
    "from mask.utility.utility_fun import Apriori\n",
    "from mask.eval import support_error"
   ]
  },
  {
   "cell_type": "code",
   "execution_count": 432,
   "metadata": {},
   "outputs": [],
   "source": [
    "transactions = [\n",
    "    [\"milk\", \"bread\", \"butter\"],          # Transazione 1\n",
    "    [\"bread\", \"butter\", \"jam\"],           # Transazione 2\n",
    "    [\"milk\", \"bread\", \"butter\", \"jam\"],   # Transazione 3\n",
    "    [\"bread\", \"butter\"],                  # Transazione 4\n",
    "    [\"milk\", \"butter\"],                   # Transazione 5\n",
    "    [\"bread\", \"jam\"],                     # Transazione 6\n",
    "    [\"milk\", \"bread\"],                    # Transazione 7\n",
    "    [\"milk\", \"butter\", \"jam\"],            # Transazione 8\n",
    "    [\"butter\", \"jam\"],                    # Transazione 9\n",
    "    [\"milk\", \"bread\", \"jam\"]              # Transazione 10\n",
    "]\n"
   ]
  },
  {
   "cell_type": "code",
   "execution_count": 433,
   "metadata": {},
   "outputs": [],
   "source": [
    "inventory=[]\n",
    "for row in transactions:\n",
    "    for element in row:\n",
    "            if element not in inventory:\n",
    "                inventory.append(element)"
   ]
  },
  {
   "cell_type": "code",
   "execution_count": 434,
   "metadata": {},
   "outputs": [],
   "source": [
    "import pandas as pd\n",
    "test_ds = pd.DataFrame(\n",
    "    [[1 if item in row else 0 for item in inventory] for row in transactions],\n",
    "    columns=inventory\n",
    ")"
   ]
  },
  {
   "cell_type": "code",
   "execution_count": null,
   "metadata": {},
   "outputs": [],
   "source": [
    "print(inventory)"
   ]
  },
  {
   "cell_type": "code",
   "execution_count": null,
   "metadata": {},
   "outputs": [],
   "source": [
    "print(test_ds)"
   ]
  },
  {
   "cell_type": "code",
   "execution_count": 452,
   "metadata": {},
   "outputs": [],
   "source": [
    "from pandas import DataFrame\n",
    "import random\n",
    "def MASK_Distortion(dataset: DataFrame, p: float):\n",
    "    '''\n",
    "    MASK\n",
    "    \n",
    "    choose a probability p\n",
    "\n",
    "    2 event\n",
    "    P(x = true) -> 1-p % -> we add or remove an element in the transaction\n",
    "    P(x = false) -> p% -> the transaction remains the same\n",
    "    '''\n",
    "    distorted_dataset = dataset.copy(deep=True)\n",
    "    for i in range(0,len(distorted_dataset)):\n",
    "        for column in distorted_dataset.columns:\n",
    "            event = random.random()\n",
    "            if event > p:\n",
    "                distorted_dataset.loc[i, column] = int(not dataset.loc[i, column])\n",
    "\n",
    "    return distorted_dataset"
   ]
  },
  {
   "cell_type": "code",
   "execution_count": 438,
   "metadata": {},
   "outputs": [],
   "source": [
    "p = 0.9\n",
    "distorted_ds = MASK_Distortion(test_ds,p)"
   ]
  },
  {
   "cell_type": "code",
   "execution_count": null,
   "metadata": {},
   "outputs": [],
   "source": [
    "print(distorted_ds)"
   ]
  },
  {
   "cell_type": "code",
   "execution_count": null,
   "metadata": {},
   "outputs": [],
   "source": [
    "min_sup = 0.3\n",
    "rules = Apriori(test_ds,min_sup)"
   ]
  },
  {
   "cell_type": "code",
   "execution_count": null,
   "metadata": {},
   "outputs": [],
   "source": [
    "mask_rules = MASK_frequent_itemsets(distorted_ds,1-p,min_sup)"
   ]
  },
  {
   "cell_type": "code",
   "execution_count": null,
   "metadata": {},
   "outputs": [],
   "source": [
    "print(support_error(rules[1],mask_rules[1]))"
   ]
  },
  {
   "cell_type": "code",
   "execution_count": null,
   "metadata": {},
   "outputs": [],
   "source": [
    "# event < p\n",
    "import numpy as np\n",
    "support_errors = []\n",
    "p = 0.9\n",
    "for i in range(0,100):\n",
    "    distorted_ds = MASK_Distortion(test_ds,p)\n",
    "    mask_rules = MASK_frequent_itemsets(distorted_ds,p,min_sup)\n",
    "    support_errors.append(support_error(rules[1],mask_rules[1]))\n",
    "print(np.mean(support_errors))"
   ]
  },
  {
   "cell_type": "code",
   "execution_count": null,
   "metadata": {},
   "outputs": [],
   "source": [
    "# event > p\n",
    "import numpy as np\n",
    "support_errors = []\n",
    "p = 0.9\n",
    "for i in range(0,100):\n",
    "    distorted_ds = MASK_Distortion(test_ds,p)\n",
    "    mask_rules = MASK_frequent_itemsets(distorted_ds,p,min_sup)\n",
    "    support_errors.append(support_error(rules[1],mask_rules[1]))\n",
    "print(np.mean(support_errors))"
   ]
  },
  {
   "cell_type": "code",
   "execution_count": null,
   "metadata": {},
   "outputs": [],
   "source": [
    "# event > p\n",
    "import numpy as np\n",
    "support_errors = []\n",
    "p = 0.9\n",
    "for i in range(0,100):\n",
    "    distorted_ds = MASK_Distortion(test_ds,p)\n",
    "    mask_rules = MASK_frequent_itemsets(distorted_ds,1-p,min_sup)\n",
    "    support_errors.append(support_error(rules[1],mask_rules[1]))\n",
    "print(np.mean(support_errors))"
   ]
  },
  {
   "cell_type": "code",
   "execution_count": null,
   "metadata": {},
   "outputs": [],
   "source": [
    "# event < p\n",
    "import numpy as np\n",
    "support_errors = []\n",
    "p = 0.9\n",
    "for i in range(0,100):\n",
    "    distorted_ds = MASK_Distortion(test_ds,p)\n",
    "    mask_rules = MASK_frequent_itemsets(distorted_ds,1-p,min_sup)\n",
    "    support_errors.append(support_error(rules[1],mask_rules[1]))\n",
    "print(np.mean(support_errors))"
   ]
  }
 ],
 "metadata": {
  "kernelspec": {
   "display_name": "Python 3",
   "language": "python",
   "name": "python3"
  },
  "language_info": {
   "codemirror_mode": {
    "name": "ipython",
    "version": 3
   },
   "file_extension": ".py",
   "mimetype": "text/x-python",
   "name": "python",
   "nbconvert_exporter": "python",
   "pygments_lexer": "ipython3",
   "version": "3.11.9"
  }
 },
 "nbformat": 4,
 "nbformat_minor": 2
}
