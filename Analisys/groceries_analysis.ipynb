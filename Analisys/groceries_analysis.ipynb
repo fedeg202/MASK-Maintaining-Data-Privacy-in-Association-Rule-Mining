{
 "cells": [
  {
   "cell_type": "markdown",
   "metadata": {},
   "source": [
    "# MASK on Groceries Dataset"
   ]
  },
  {
   "cell_type": "markdown",
   "metadata": {},
   "source": [
    "## Preprocessing data"
   ]
  },
  {
   "cell_type": "code",
   "execution_count": null,
   "metadata": {},
   "outputs": [],
   "source": [
    "ds_path = \".\\..\\Datasets\\\\basket.csv\"\n",
    "\n",
    "with open(ds_path, \"r\") as f:\n",
    "\n",
    "    lines = f.readlines()\n",
    "    inventory = list()\n",
    "    tuples = list()\n",
    "\n",
    "    for line in lines:\n",
    "        transaction = line.strip().split(\",\")\n",
    "        transaction = [\n",
    "            element for element in transaction if element != ''\n",
    "        ]\n",
    "        tuples.append(transaction)\n",
    "        for element in transaction:\n",
    "            element_cleaned = element.strip().replace(' ','_').replace('&','and').replace('.','_').replace('-','_').replace('/','_').replace('(','_').replace(')','_')\n",
    "            if element_cleaned not in inventory:\n",
    "                inventory.append(element_cleaned)\n"
   ]
  },
  {
   "cell_type": "code",
   "execution_count": null,
   "metadata": {},
   "outputs": [],
   "source": [
    "print(inventory)\n",
    "inventory.sort()\n",
    "print(inventory)\n",
    "inventory = inventory[11:]\n",
    "print(inventory)"
   ]
  },
  {
   "cell_type": "code",
   "execution_count": null,
   "metadata": {},
   "outputs": [],
   "source": [
    "print(tuples[0])\n",
    "tuples.remove(tuples[0])\n",
    "print(tuples)"
   ]
  },
  {
   "cell_type": "code",
   "execution_count": null,
   "metadata": {},
   "outputs": [],
   "source": [
    "import pandas as pd\n",
    "import mask\n",
    "import numpy as np\n",
    "import math\n",
    "import random\n",
    "from pandas import DataFrame"
   ]
  },
  {
   "cell_type": "code",
   "execution_count": null,
   "metadata": {},
   "outputs": [],
   "source": [
    "groceries_dataset = pd.DataFrame(\n",
    "    [[1 if item in row else 0 for item in inventory] for row in tuples],\n",
    "    columns=inventory\n",
    ")"
   ]
  },
  {
   "cell_type": "code",
   "execution_count": null,
   "metadata": {},
   "outputs": [],
   "source": [
    "groceries_dataset.head(3)"
   ]
  },
  {
   "cell_type": "code",
   "execution_count": null,
   "metadata": {},
   "outputs": [],
   "source": [
    "from mask.functions import MASK_Distortion\n",
    "\n",
    "p=0.9\n",
    "distorted_ds = MASK_Distortion(groceries_dataset,p)"
   ]
  },
  {
   "cell_type": "code",
   "execution_count": null,
   "metadata": {},
   "outputs": [],
   "source": [
    "from mask.utility.utility_fun import mean_support\n",
    "\n",
    "\n",
    "\n",
    "mean_sup = mean_support(inventory, groceries_dataset)\n",
    "print(mean_sup)"
   ]
  },
  {
   "cell_type": "markdown",
   "metadata": {},
   "source": [
    "## Full test ds"
   ]
  },
  {
   "cell_type": "code",
   "execution_count": null,
   "metadata": {},
   "outputs": [],
   "source": [
    "from mask.utility.utility_fun import Apriori\n",
    "from mask.functions import MASK_Distortion,MASK_frequent_itemsets"
   ]
  },
  {
   "cell_type": "code",
   "execution_count": null,
   "metadata": {},
   "outputs": [],
   "source": [
    "min_sup = 0.0025"
   ]
  },
  {
   "cell_type": "code",
   "execution_count": null,
   "metadata": {},
   "outputs": [],
   "source": [
    "rules = Apriori(groceries_dataset,min_sup)"
   ]
  },
  {
   "cell_type": "code",
   "execution_count": null,
   "metadata": {},
   "outputs": [],
   "source": [
    "print(rules)"
   ]
  },
  {
   "cell_type": "code",
   "execution_count": null,
   "metadata": {},
   "outputs": [],
   "source": [
    "MASK_rules = MASK_frequent_itemsets(distorted_ds,p,min_sup)"
   ]
  },
  {
   "cell_type": "code",
   "execution_count": null,
   "metadata": {},
   "outputs": [],
   "source": [
    "from mask.eval import support_error, identity_error"
   ]
  },
  {
   "cell_type": "code",
   "execution_count": null,
   "metadata": {},
   "outputs": [],
   "source": [
    "for i in range(1,len(rules)):\n",
    "    print(f\"Level: {i},|F| = {len(rules[i])}, Support error: {support_error(rules[i],MASK_rules[i])}, Identity error: {identity_error(rules[i],MASK_rules[i])}\")"
   ]
  },
  {
   "cell_type": "code",
   "execution_count": null,
   "metadata": {},
   "outputs": [],
   "source": [
    "from mask.eval import P\n",
    "print(f\"Privacy level:{P(mean_support(inventory,groceries_dataset),p,0.9)}\")"
   ]
  }
 ],
 "metadata": {
  "kernelspec": {
   "display_name": "Python 3",
   "language": "python",
   "name": "python3"
  },
  "language_info": {
   "codemirror_mode": {
    "name": "ipython",
    "version": 3
   },
   "file_extension": ".py",
   "mimetype": "text/x-python",
   "name": "python",
   "nbconvert_exporter": "python",
   "pygments_lexer": "ipython3",
   "version": "3.11.9"
  }
 },
 "nbformat": 4,
 "nbformat_minor": 2
}
